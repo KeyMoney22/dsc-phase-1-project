{
 "cells": [
  {
   "cell_type": "markdown",
   "metadata": {},
   "source": [
    "## Final Project Submission\n",
    "\n",
    "Please fill out:\n",
    "* Student name: James Kimani \n",
    "* Student pace: Part-Time\n",
    "* Scheduled project review date/time:  \n",
    "* Instructor name: Noah Kandie\n",
    "* Blog post URL:\n"
   ]
  },
  {
   "cell_type": "markdown",
   "metadata": {},
   "source": [
    "## 1. Importing Relevant Libraries"
   ]
  },
  {
   "cell_type": "code",
   "execution_count": 1,
   "metadata": {},
   "outputs": [],
   "source": [
    "import pandas as pd\n",
    "import matplotlib.pyplot as plt\n",
    "import seaborn as sns\n",
    "sns.set()\n",
    "\n"
   ]
  },
  {
   "cell_type": "markdown",
   "metadata": {},
   "source": [
    "## 2. Loading csv data into a dataframes."
   ]
  },
  {
   "cell_type": "code",
   "execution_count": 2,
   "metadata": {},
   "outputs": [],
   "source": [
    "df_reviews = pd.read_csv('data/title.ratings.csv')\n",
    "df_titles = pd.read_csv('data/title.basics.csv')\n",
    "df_gross = pd.read_csv('data/bom.movie_gross.csv')\n"
   ]
  },
  {
   "cell_type": "markdown",
   "metadata": {},
   "source": [
    "## 3. Data Preparation"
   ]
  },
  {
   "cell_type": "code",
   "execution_count": 3,
   "metadata": {},
   "outputs": [],
   "source": [
    "#Removing duplicates in our DataFrames if any\n",
    "\n",
    "df_reviews.drop_duplicates(inplace=True)\n",
    "df_titles.drop_duplicates(inplace=True)\n",
    "df_gross.drop_duplicates(inplace=True)"
   ]
  },
  {
   "cell_type": "markdown",
   "metadata": {},
   "source": [
    "### 3.1. Preparing and checking the ratings and titles dataframes"
   ]
  },
  {
   "cell_type": "code",
   "execution_count": 4,
   "metadata": {},
   "outputs": [
    {
     "data": {
      "text/plain": [
       "73856"
      ]
     },
     "execution_count": 4,
     "metadata": {},
     "output_type": "execute_result"
    }
   ],
   "source": [
    "df_reviews['tconst'].nunique()"
   ]
  },
  {
   "cell_type": "code",
   "execution_count": 5,
   "metadata": {},
   "outputs": [
    {
     "name": "stdout",
     "output_type": "stream",
     "text": [
      "<class 'pandas.core.frame.DataFrame'>\n",
      "Int64Index: 73856 entries, 0 to 73855\n",
      "Data columns (total 3 columns):\n",
      " #   Column         Non-Null Count  Dtype  \n",
      "---  ------         --------------  -----  \n",
      " 0   tconst         73856 non-null  object \n",
      " 1   averagerating  73856 non-null  float64\n",
      " 2   numvotes       73856 non-null  int64  \n",
      "dtypes: float64(1), int64(1), object(1)\n",
      "memory usage: 2.3+ MB\n"
     ]
    }
   ],
   "source": [
    "df_reviews.info()"
   ]
  },
  {
   "cell_type": "code",
   "execution_count": 6,
   "metadata": {},
   "outputs": [
    {
     "data": {
      "text/html": [
       "<div>\n",
       "<style scoped>\n",
       "    .dataframe tbody tr th:only-of-type {\n",
       "        vertical-align: middle;\n",
       "    }\n",
       "\n",
       "    .dataframe tbody tr th {\n",
       "        vertical-align: top;\n",
       "    }\n",
       "\n",
       "    .dataframe thead th {\n",
       "        text-align: right;\n",
       "    }\n",
       "</style>\n",
       "<table border=\"1\" class=\"dataframe\">\n",
       "  <thead>\n",
       "    <tr style=\"text-align: right;\">\n",
       "      <th></th>\n",
       "      <th>averagerating</th>\n",
       "      <th>numvotes</th>\n",
       "    </tr>\n",
       "  </thead>\n",
       "  <tbody>\n",
       "    <tr>\n",
       "      <th>count</th>\n",
       "      <td>73856.000000</td>\n",
       "      <td>7.385600e+04</td>\n",
       "    </tr>\n",
       "    <tr>\n",
       "      <th>mean</th>\n",
       "      <td>6.332729</td>\n",
       "      <td>3.523662e+03</td>\n",
       "    </tr>\n",
       "    <tr>\n",
       "      <th>std</th>\n",
       "      <td>1.474978</td>\n",
       "      <td>3.029402e+04</td>\n",
       "    </tr>\n",
       "    <tr>\n",
       "      <th>min</th>\n",
       "      <td>1.000000</td>\n",
       "      <td>5.000000e+00</td>\n",
       "    </tr>\n",
       "    <tr>\n",
       "      <th>25%</th>\n",
       "      <td>5.500000</td>\n",
       "      <td>1.400000e+01</td>\n",
       "    </tr>\n",
       "    <tr>\n",
       "      <th>50%</th>\n",
       "      <td>6.500000</td>\n",
       "      <td>4.900000e+01</td>\n",
       "    </tr>\n",
       "    <tr>\n",
       "      <th>75%</th>\n",
       "      <td>7.400000</td>\n",
       "      <td>2.820000e+02</td>\n",
       "    </tr>\n",
       "    <tr>\n",
       "      <th>max</th>\n",
       "      <td>10.000000</td>\n",
       "      <td>1.841066e+06</td>\n",
       "    </tr>\n",
       "  </tbody>\n",
       "</table>\n",
       "</div>"
      ],
      "text/plain": [
       "       averagerating      numvotes\n",
       "count   73856.000000  7.385600e+04\n",
       "mean        6.332729  3.523662e+03\n",
       "std         1.474978  3.029402e+04\n",
       "min         1.000000  5.000000e+00\n",
       "25%         5.500000  1.400000e+01\n",
       "50%         6.500000  4.900000e+01\n",
       "75%         7.400000  2.820000e+02\n",
       "max        10.000000  1.841066e+06"
      ]
     },
     "execution_count": 6,
     "metadata": {},
     "output_type": "execute_result"
    }
   ],
   "source": [
    "df_reviews.describe()"
   ]
  },
  {
   "cell_type": "code",
   "execution_count": 7,
   "metadata": {},
   "outputs": [
    {
     "data": {
      "text/html": [
       "<div>\n",
       "<style scoped>\n",
       "    .dataframe tbody tr th:only-of-type {\n",
       "        vertical-align: middle;\n",
       "    }\n",
       "\n",
       "    .dataframe tbody tr th {\n",
       "        vertical-align: top;\n",
       "    }\n",
       "\n",
       "    .dataframe thead th {\n",
       "        text-align: right;\n",
       "    }\n",
       "</style>\n",
       "<table border=\"1\" class=\"dataframe\">\n",
       "  <thead>\n",
       "    <tr style=\"text-align: right;\">\n",
       "      <th></th>\n",
       "      <th>tconst</th>\n",
       "      <th>averagerating</th>\n",
       "      <th>numvotes</th>\n",
       "    </tr>\n",
       "  </thead>\n",
       "  <tbody>\n",
       "    <tr>\n",
       "      <th>0</th>\n",
       "      <td>tt10356526</td>\n",
       "      <td>8.3</td>\n",
       "      <td>31</td>\n",
       "    </tr>\n",
       "    <tr>\n",
       "      <th>1</th>\n",
       "      <td>tt10384606</td>\n",
       "      <td>8.9</td>\n",
       "      <td>559</td>\n",
       "    </tr>\n",
       "    <tr>\n",
       "      <th>2</th>\n",
       "      <td>tt1042974</td>\n",
       "      <td>6.4</td>\n",
       "      <td>20</td>\n",
       "    </tr>\n",
       "    <tr>\n",
       "      <th>3</th>\n",
       "      <td>tt1043726</td>\n",
       "      <td>4.2</td>\n",
       "      <td>50352</td>\n",
       "    </tr>\n",
       "    <tr>\n",
       "      <th>4</th>\n",
       "      <td>tt1060240</td>\n",
       "      <td>6.5</td>\n",
       "      <td>21</td>\n",
       "    </tr>\n",
       "  </tbody>\n",
       "</table>\n",
       "</div>"
      ],
      "text/plain": [
       "       tconst  averagerating  numvotes\n",
       "0  tt10356526            8.3        31\n",
       "1  tt10384606            8.9       559\n",
       "2   tt1042974            6.4        20\n",
       "3   tt1043726            4.2     50352\n",
       "4   tt1060240            6.5        21"
      ]
     },
     "execution_count": 7,
     "metadata": {},
     "output_type": "execute_result"
    }
   ],
   "source": [
    "df_reviews.head()"
   ]
  },
  {
   "cell_type": "markdown",
   "metadata": {},
   "source": [
    "#### 3.1.1 Combining the Review data frame and Titles DataFrame"
   ]
  },
  {
   "cell_type": "code",
   "execution_count": 8,
   "metadata": {
    "tags": []
   },
   "outputs": [
    {
     "data": {
      "text/html": [
       "<div>\n",
       "<style scoped>\n",
       "    .dataframe tbody tr th:only-of-type {\n",
       "        vertical-align: middle;\n",
       "    }\n",
       "\n",
       "    .dataframe tbody tr th {\n",
       "        vertical-align: top;\n",
       "    }\n",
       "\n",
       "    .dataframe thead th {\n",
       "        text-align: right;\n",
       "    }\n",
       "</style>\n",
       "<table border=\"1\" class=\"dataframe\">\n",
       "  <thead>\n",
       "    <tr style=\"text-align: right;\">\n",
       "      <th></th>\n",
       "      <th>tconst</th>\n",
       "      <th>primary_title</th>\n",
       "      <th>original_title</th>\n",
       "      <th>start_year</th>\n",
       "      <th>runtime_minutes</th>\n",
       "      <th>genres</th>\n",
       "      <th>averagerating</th>\n",
       "      <th>numvotes</th>\n",
       "    </tr>\n",
       "  </thead>\n",
       "  <tbody>\n",
       "    <tr>\n",
       "      <th>0</th>\n",
       "      <td>tt0063540</td>\n",
       "      <td>Sunghursh</td>\n",
       "      <td>Sunghursh</td>\n",
       "      <td>2013</td>\n",
       "      <td>175.0</td>\n",
       "      <td>Action,Crime,Drama</td>\n",
       "      <td>7.0</td>\n",
       "      <td>77</td>\n",
       "    </tr>\n",
       "    <tr>\n",
       "      <th>1</th>\n",
       "      <td>tt0066787</td>\n",
       "      <td>One Day Before the Rainy Season</td>\n",
       "      <td>Ashad Ka Ek Din</td>\n",
       "      <td>2019</td>\n",
       "      <td>114.0</td>\n",
       "      <td>Biography,Drama</td>\n",
       "      <td>7.2</td>\n",
       "      <td>43</td>\n",
       "    </tr>\n",
       "    <tr>\n",
       "      <th>2</th>\n",
       "      <td>tt0069049</td>\n",
       "      <td>The Other Side of the Wind</td>\n",
       "      <td>The Other Side of the Wind</td>\n",
       "      <td>2018</td>\n",
       "      <td>122.0</td>\n",
       "      <td>Drama</td>\n",
       "      <td>6.9</td>\n",
       "      <td>4517</td>\n",
       "    </tr>\n",
       "    <tr>\n",
       "      <th>3</th>\n",
       "      <td>tt0069204</td>\n",
       "      <td>Sabse Bada Sukh</td>\n",
       "      <td>Sabse Bada Sukh</td>\n",
       "      <td>2018</td>\n",
       "      <td>NaN</td>\n",
       "      <td>Comedy,Drama</td>\n",
       "      <td>6.1</td>\n",
       "      <td>13</td>\n",
       "    </tr>\n",
       "    <tr>\n",
       "      <th>4</th>\n",
       "      <td>tt0100275</td>\n",
       "      <td>The Wandering Soap Opera</td>\n",
       "      <td>La Telenovela Errante</td>\n",
       "      <td>2017</td>\n",
       "      <td>80.0</td>\n",
       "      <td>Comedy,Drama,Fantasy</td>\n",
       "      <td>6.5</td>\n",
       "      <td>119</td>\n",
       "    </tr>\n",
       "  </tbody>\n",
       "</table>\n",
       "</div>"
      ],
      "text/plain": [
       "      tconst                    primary_title              original_title  \\\n",
       "0  tt0063540                        Sunghursh                   Sunghursh   \n",
       "1  tt0066787  One Day Before the Rainy Season             Ashad Ka Ek Din   \n",
       "2  tt0069049       The Other Side of the Wind  The Other Side of the Wind   \n",
       "3  tt0069204                  Sabse Bada Sukh             Sabse Bada Sukh   \n",
       "4  tt0100275         The Wandering Soap Opera       La Telenovela Errante   \n",
       "\n",
       "   start_year  runtime_minutes                genres  averagerating  numvotes  \n",
       "0        2013            175.0    Action,Crime,Drama            7.0        77  \n",
       "1        2019            114.0       Biography,Drama            7.2        43  \n",
       "2        2018            122.0                 Drama            6.9      4517  \n",
       "3        2018              NaN          Comedy,Drama            6.1        13  \n",
       "4        2017             80.0  Comedy,Drama,Fantasy            6.5       119  "
      ]
     },
     "execution_count": 8,
     "metadata": {},
     "output_type": "execute_result"
    }
   ],
   "source": [
    "df_titles_reviews =  pd.merge(df_titles, df_reviews, on = 'tconst')\n",
    "df_titles_reviews.head()"
   ]
  },
  {
   "cell_type": "markdown",
   "metadata": {},
   "source": [
    "#### 3.1.2. Checking and Dealing with Missing values"
   ]
  },
  {
   "cell_type": "code",
   "execution_count": 9,
   "metadata": {},
   "outputs": [
    {
     "data": {
      "text/plain": [
       "tconst                0\n",
       "primary_title         0\n",
       "original_title        0\n",
       "start_year            0\n",
       "runtime_minutes    7620\n",
       "genres              804\n",
       "averagerating         0\n",
       "numvotes              0\n",
       "dtype: int64"
      ]
     },
     "execution_count": 9,
     "metadata": {},
     "output_type": "execute_result"
    }
   ],
   "source": [
    "#Checking for missing values\n",
    "df_titles_reviews.isnull().sum()"
   ]
  },
  {
   "cell_type": "code",
   "execution_count": 10,
   "metadata": {
    "tags": []
   },
   "outputs": [
    {
     "data": {
      "text/plain": [
       "tconst             0\n",
       "primary_title      0\n",
       "original_title     0\n",
       "start_year         0\n",
       "runtime_minutes    0\n",
       "genres             0\n",
       "averagerating      0\n",
       "numvotes           0\n",
       "dtype: int64"
      ]
     },
     "execution_count": 10,
     "metadata": {},
     "output_type": "execute_result"
    }
   ],
   "source": [
    "# Replacing the missing values in the runtime_minutes column with the nean of the column\n",
    "\n",
    "# Calculate the mean of the runtime_munites\n",
    "mean_value = df_titles_reviews['runtime_minutes'].mean()\n",
    "\n",
    "# Replace missing values with the mean\n",
    "df_titles_reviews['runtime_minutes'].fillna(mean_value, inplace=True)\n",
    "\n",
    "## We drop all the columns with the missing genres since the number is low\n",
    "\n",
    "df_titles_reviews.dropna(subset = ['genres'], inplace = True)\n",
    "\n",
    "# Print the DataFrame after replacing missing values\n",
    "df_titles_reviews.isna().sum()\n"
   ]
  },
  {
   "cell_type": "markdown",
   "metadata": {
    "tags": []
   },
   "source": [
    "#### 3.1.3. Droping unneccessary columns."
   ]
  },
  {
   "cell_type": "code",
   "execution_count": 11,
   "metadata": {},
   "outputs": [
    {
     "name": "stdout",
     "output_type": "stream",
     "text": [
      "<class 'pandas.core.frame.DataFrame'>\n",
      "Int64Index: 73052 entries, 0 to 73855\n",
      "Data columns (total 7 columns):\n",
      " #   Column           Non-Null Count  Dtype  \n",
      "---  ------           --------------  -----  \n",
      " 0   tconst           73052 non-null  object \n",
      " 1   primary_title    73052 non-null  object \n",
      " 2   start_year       73052 non-null  int64  \n",
      " 3   runtime_minutes  73052 non-null  float64\n",
      " 4   genres           73052 non-null  object \n",
      " 5   averagerating    73052 non-null  float64\n",
      " 6   numvotes         73052 non-null  int64  \n",
      "dtypes: float64(2), int64(2), object(3)\n",
      "memory usage: 4.5+ MB\n"
     ]
    }
   ],
   "source": [
    "''' \n",
    "Since the primary_title and original_title hold the same information,\n",
    "i.e the name of the movie where the original title holds the name of the movie in native language other than Engilish\n",
    "we shall drop the ' original_title' column since haveing the titles in english is better for the our intented audience\n",
    "'''\n",
    "\n",
    "\n",
    "df_titles_reviews.drop(columns = ['original_title'], inplace = True)\n",
    "df_titles_reviews.info()"
   ]
  },
  {
   "cell_type": "markdown",
   "metadata": {
    "tags": []
   },
   "source": [
    "### 3.2. Cleaning and checking the gross dataframe"
   ]
  },
  {
   "cell_type": "code",
   "execution_count": 12,
   "metadata": {
    "tags": []
   },
   "outputs": [
    {
     "data": {
      "text/html": [
       "<div>\n",
       "<style scoped>\n",
       "    .dataframe tbody tr th:only-of-type {\n",
       "        vertical-align: middle;\n",
       "    }\n",
       "\n",
       "    .dataframe tbody tr th {\n",
       "        vertical-align: top;\n",
       "    }\n",
       "\n",
       "    .dataframe thead th {\n",
       "        text-align: right;\n",
       "    }\n",
       "</style>\n",
       "<table border=\"1\" class=\"dataframe\">\n",
       "  <thead>\n",
       "    <tr style=\"text-align: right;\">\n",
       "      <th></th>\n",
       "      <th>title</th>\n",
       "      <th>studio</th>\n",
       "      <th>domestic_gross</th>\n",
       "      <th>foreign_gross</th>\n",
       "      <th>year</th>\n",
       "    </tr>\n",
       "  </thead>\n",
       "  <tbody>\n",
       "    <tr>\n",
       "      <th>0</th>\n",
       "      <td>Toy Story 3</td>\n",
       "      <td>BV</td>\n",
       "      <td>415000000.0</td>\n",
       "      <td>652000000</td>\n",
       "      <td>2010</td>\n",
       "    </tr>\n",
       "    <tr>\n",
       "      <th>1</th>\n",
       "      <td>Alice in Wonderland (2010)</td>\n",
       "      <td>BV</td>\n",
       "      <td>334200000.0</td>\n",
       "      <td>691300000</td>\n",
       "      <td>2010</td>\n",
       "    </tr>\n",
       "    <tr>\n",
       "      <th>2</th>\n",
       "      <td>Harry Potter and the Deathly Hallows Part 1</td>\n",
       "      <td>WB</td>\n",
       "      <td>296000000.0</td>\n",
       "      <td>664300000</td>\n",
       "      <td>2010</td>\n",
       "    </tr>\n",
       "    <tr>\n",
       "      <th>3</th>\n",
       "      <td>Inception</td>\n",
       "      <td>WB</td>\n",
       "      <td>292600000.0</td>\n",
       "      <td>535700000</td>\n",
       "      <td>2010</td>\n",
       "    </tr>\n",
       "    <tr>\n",
       "      <th>4</th>\n",
       "      <td>Shrek Forever After</td>\n",
       "      <td>P/DW</td>\n",
       "      <td>238700000.0</td>\n",
       "      <td>513900000</td>\n",
       "      <td>2010</td>\n",
       "    </tr>\n",
       "  </tbody>\n",
       "</table>\n",
       "</div>"
      ],
      "text/plain": [
       "                                         title studio  domestic_gross  \\\n",
       "0                                  Toy Story 3     BV     415000000.0   \n",
       "1                   Alice in Wonderland (2010)     BV     334200000.0   \n",
       "2  Harry Potter and the Deathly Hallows Part 1     WB     296000000.0   \n",
       "3                                    Inception     WB     292600000.0   \n",
       "4                          Shrek Forever After   P/DW     238700000.0   \n",
       "\n",
       "  foreign_gross  year  \n",
       "0     652000000  2010  \n",
       "1     691300000  2010  \n",
       "2     664300000  2010  \n",
       "3     535700000  2010  \n",
       "4     513900000  2010  "
      ]
     },
     "execution_count": 12,
     "metadata": {},
     "output_type": "execute_result"
    }
   ],
   "source": [
    "#Displaying the first five entries of the data frame\n",
    "df_gross.head()"
   ]
  },
  {
   "cell_type": "code",
   "execution_count": 13,
   "metadata": {
    "tags": []
   },
   "outputs": [
    {
     "data": {
      "text/plain": [
       "title              object\n",
       "studio             object\n",
       "domestic_gross    float64\n",
       "foreign_gross      object\n",
       "year                int64\n",
       "dtype: object"
      ]
     },
     "execution_count": 13,
     "metadata": {},
     "output_type": "execute_result"
    }
   ],
   "source": [
    "#Checking the datatypes\n",
    "df_gross.dtypes"
   ]
  },
  {
   "cell_type": "code",
   "execution_count": 14,
   "metadata": {
    "tags": []
   },
   "outputs": [
    {
     "data": {
      "text/plain": [
       "array([<class 'str'>, <class 'float'>], dtype=object)"
      ]
     },
     "execution_count": 14,
     "metadata": {},
     "output_type": "execute_result"
    }
   ],
   "source": [
    "#checking the different datatypes in foreign_gross\n",
    "unique_data_types = df_gross['foreign_gross'].apply(type).unique()\n",
    "unique_data_types"
   ]
  },
  {
   "cell_type": "code",
   "execution_count": 15,
   "metadata": {
    "tags": []
   },
   "outputs": [],
   "source": [
    "#Striping the column of the '' to allow us convert the whole column into a float datatype\n",
    "df_gross['foreign_gross'] = df_gross['foreign_gross'].str.replace(',', '').astype(float)"
   ]
  },
  {
   "cell_type": "code",
   "execution_count": 16,
   "metadata": {
    "tags": []
   },
   "outputs": [
    {
     "data": {
      "text/plain": [
       "title              object\n",
       "studio             object\n",
       "domestic_gross    float64\n",
       "foreign_gross     float64\n",
       "year                int64\n",
       "dtype: object"
      ]
     },
     "execution_count": 16,
     "metadata": {},
     "output_type": "execute_result"
    }
   ],
   "source": [
    "df_gross.dtypes"
   ]
  },
  {
   "cell_type": "code",
   "execution_count": null,
   "metadata": {},
   "outputs": [],
   "source": []
  },
  {
   "cell_type": "markdown",
   "metadata": {},
   "source": [
    "#### 3.2.1 Checking and Dealing with Missing values"
   ]
  },
  {
   "cell_type": "code",
   "execution_count": null,
   "metadata": {},
   "outputs": [],
   "source": []
  },
  {
   "cell_type": "code",
   "execution_count": 17,
   "metadata": {
    "tags": []
   },
   "outputs": [
    {
     "data": {
      "text/plain": [
       "title                0\n",
       "studio               5\n",
       "domestic_gross      28\n",
       "foreign_gross     1350\n",
       "year                 0\n",
       "dtype: int64"
      ]
     },
     "execution_count": 17,
     "metadata": {},
     "output_type": "execute_result"
    }
   ],
   "source": [
    "#checking for missing values\n",
    "df_gross.isnull().sum()"
   ]
  },
  {
   "cell_type": "code",
   "execution_count": 18,
   "metadata": {
    "tags": []
   },
   "outputs": [
    {
     "name": "stdout",
     "output_type": "stream",
     "text": [
      "Mean is 28745845.06698422\n",
      "Mode is 1400000.0\n"
     ]
    }
   ],
   "source": [
    "#Obtaining the mean and mode of the foreign_gross columns\n",
    "domestic_mean =  df_gross['domestic_gross'].mean()\n",
    "domestic_median = df_gross['domestic_gross'].median()\n",
    "\n",
    "print(\"Mean is \"  + str(domestic_mean))\n",
    "print(\"Mode is \" + str(domestic_median))"
   ]
  },
  {
   "cell_type": "code",
   "execution_count": 19,
   "metadata": {
    "tags": []
   },
   "outputs": [
    {
     "name": "stdout",
     "output_type": "stream",
     "text": [
      "Mean is 74872810.15046637\n",
      "Mode is 18700000.0\n"
     ]
    }
   ],
   "source": [
    "#Obtaining the mean and mode of the foreign_gross columns\n",
    "foreign_mean =  df_gross['foreign_gross'].mean()\n",
    "foreign_median = df_gross['foreign_gross'].median()\n",
    "\n",
    "print(\"Mean is \"  + str(foreign_mean))\n",
    "print(\"Mode is \" + str(foreign_median))"
   ]
  },
  {
   "cell_type": "code",
   "execution_count": 20,
   "metadata": {
    "tags": []
   },
   "outputs": [
    {
     "name": "stdout",
     "output_type": "stream",
     "text": [
      "<class 'pandas.core.frame.DataFrame'>\n",
      "Int64Index: 2007 entries, 0 to 3353\n",
      "Data columns (total 5 columns):\n",
      " #   Column          Non-Null Count  Dtype  \n",
      "---  ------          --------------  -----  \n",
      " 0   title           2007 non-null   object \n",
      " 1   studio          2007 non-null   object \n",
      " 2   domestic_gross  2007 non-null   float64\n",
      " 3   foreign_gross   2007 non-null   float64\n",
      " 4   year            2007 non-null   int64  \n",
      "dtypes: float64(2), int64(1), object(2)\n",
      "memory usage: 94.1+ KB\n"
     ]
    }
   ],
   "source": [
    "#Droping the missing values based on the domestic_gross column since the number is low\n",
    "\n",
    "df_gross.dropna(subset=['domestic_gross'],inplace = True)\n",
    "df_gross.dropna(subset=['studio'],inplace = True)\n",
    "df_gross.dropna(subset=['foreign_gross'],inplace = True)\n",
    "df_gross.info()"
   ]
  },
  {
   "cell_type": "code",
   "execution_count": 21,
   "metadata": {
    "tags": []
   },
   "outputs": [],
   "source": [
    "#Dealing with Missing values in the foreign gross column\n",
    "\n"
   ]
  },
  {
   "cell_type": "markdown",
   "metadata": {
    "tags": []
   },
   "source": [
    "#### 3.2.2 Checking and Dealing with Outliers"
   ]
  },
  {
   "cell_type": "code",
   "execution_count": 22,
   "metadata": {
    "tags": []
   },
   "outputs": [
    {
     "data": {
      "image/png": "[encoded data removed]",
      "text/plain": [
       "<Figure size 1000x800 with 1 Axes>"
      ]
     },
     "metadata": {},
     "output_type": "display_data"
    }
   ],
   "source": [
    "### Observing outliers for domestic_gross\n",
    "\n",
    "plt.figure(figsize = (10,8))\n",
    "\n",
    "plt.boxplot(df_gross['domestic_gross'])\n",
    "plt.title(' Boxplot of the domestic gross income')\n",
    "plt.ylabel('Gross income in Hundreds of Millions')\n",
    "plt.show()"
   ]
  },
  {
   "cell_type": "code",
   "execution_count": null,
   "metadata": {
    "tags": []
   },
   "outputs": [],
   "source": []
  },
  {
   "cell_type": "code",
   "execution_count": 23,
   "metadata": {
    "tags": []
   },
   "outputs": [
    {
     "data": {
      "image/png": "[encoded data removed]",
      "text/plain": [
       "<Figure size 1000x800 with 1 Axes>"
      ]
     },
     "metadata": {},
     "output_type": "display_data"
    }
   ],
   "source": [
    "### Observing outliers for foreign_gross\n",
    "\n",
    "plt.figure(figsize = (10,8))\n",
    "\n",
    "plt.boxplot(df_gross['foreign_gross'])\n",
    "plt.title(' Boxplot of the domestic gross income')\n",
    "plt.ylabel('Gross income in Hundreds of Millions')\n",
    "plt.show()"
   ]
  },
  {
   "cell_type": "code",
   "execution_count": 24,
   "metadata": {
    "tags": []
   },
   "outputs": [
    {
     "name": "stdout",
     "output_type": "stream",
     "text": [
      "Mean is 75790384.84130543\n",
      "Mode is 19400000.0\n"
     ]
    }
   ],
   "source": [
    "#Obtaining the mean and mode of the foreign_gross columns\n",
    "gross_mean =  df_gross['foreign_gross'].mean()\n",
    "gross_median = df_gross['foreign_gross'].median()\n",
    "\n",
    "print(\"Mean is \"  + str(gross_mean))\n",
    "print(\"Mode is \" + str(gross_median))"
   ]
  },
  {
   "cell_type": "markdown",
   "metadata": {},
   "source": [
    "#### 3.2.2 Checking and Dealing with duplicates"
   ]
  },
  {
   "cell_type": "code",
   "execution_count": 25,
   "metadata": {},
   "outputs": [
    {
     "data": {
      "text/plain": [
       "0"
      ]
     },
     "execution_count": 25,
     "metadata": {},
     "output_type": "execute_result"
    }
   ],
   "source": [
    "df_gross['title'].duplicated().sum()"
   ]
  },
  {
   "cell_type": "code",
   "execution_count": 26,
   "metadata": {
    "tags": []
   },
   "outputs": [
    {
     "data": {
      "text/html": [
       "<div>\n",
       "<style scoped>\n",
       "    .dataframe tbody tr th:only-of-type {\n",
       "        vertical-align: middle;\n",
       "    }\n",
       "\n",
       "    .dataframe tbody tr th {\n",
       "        vertical-align: top;\n",
       "    }\n",
       "\n",
       "    .dataframe thead th {\n",
       "        text-align: right;\n",
       "    }\n",
       "</style>\n",
       "<table border=\"1\" class=\"dataframe\">\n",
       "  <thead>\n",
       "    <tr style=\"text-align: right;\">\n",
       "      <th></th>\n",
       "      <th>title</th>\n",
       "      <th>studio</th>\n",
       "      <th>domestic_gross</th>\n",
       "      <th>foreign_gross</th>\n",
       "      <th>year</th>\n",
       "    </tr>\n",
       "  </thead>\n",
       "  <tbody>\n",
       "    <tr>\n",
       "      <th>0</th>\n",
       "      <td>Toy Story 3</td>\n",
       "      <td>BV</td>\n",
       "      <td>415000000.0</td>\n",
       "      <td>652000000.0</td>\n",
       "      <td>2010</td>\n",
       "    </tr>\n",
       "    <tr>\n",
       "      <th>1</th>\n",
       "      <td>Alice in Wonderland (2010)</td>\n",
       "      <td>BV</td>\n",
       "      <td>334200000.0</td>\n",
       "      <td>691300000.0</td>\n",
       "      <td>2010</td>\n",
       "    </tr>\n",
       "    <tr>\n",
       "      <th>2</th>\n",
       "      <td>Harry Potter and the Deathly Hallows Part 1</td>\n",
       "      <td>WB</td>\n",
       "      <td>296000000.0</td>\n",
       "      <td>664300000.0</td>\n",
       "      <td>2010</td>\n",
       "    </tr>\n",
       "    <tr>\n",
       "      <th>3</th>\n",
       "      <td>Inception</td>\n",
       "      <td>WB</td>\n",
       "      <td>292600000.0</td>\n",
       "      <td>535700000.0</td>\n",
       "      <td>2010</td>\n",
       "    </tr>\n",
       "    <tr>\n",
       "      <th>4</th>\n",
       "      <td>Shrek Forever After</td>\n",
       "      <td>P/DW</td>\n",
       "      <td>238700000.0</td>\n",
       "      <td>513900000.0</td>\n",
       "      <td>2010</td>\n",
       "    </tr>\n",
       "  </tbody>\n",
       "</table>\n",
       "</div>"
      ],
      "text/plain": [
       "                                         title studio  domestic_gross  \\\n",
       "0                                  Toy Story 3     BV     415000000.0   \n",
       "1                   Alice in Wonderland (2010)     BV     334200000.0   \n",
       "2  Harry Potter and the Deathly Hallows Part 1     WB     296000000.0   \n",
       "3                                    Inception     WB     292600000.0   \n",
       "4                          Shrek Forever After   P/DW     238700000.0   \n",
       "\n",
       "   foreign_gross  year  \n",
       "0    652000000.0  2010  \n",
       "1    691300000.0  2010  \n",
       "2    664300000.0  2010  \n",
       "3    535700000.0  2010  \n",
       "4    513900000.0  2010  "
      ]
     },
     "execution_count": 26,
     "metadata": {},
     "output_type": "execute_result"
    }
   ],
   "source": [
    "df_gross.head()"
   ]
  },
  {
   "cell_type": "code",
   "execution_count": 27,
   "metadata": {
    "tags": []
   },
   "outputs": [
    {
     "data": {
      "text/plain": [
       "title             0\n",
       "studio            0\n",
       "domestic_gross    0\n",
       "foreign_gross     0\n",
       "year              0\n",
       "dtype: int64"
      ]
     },
     "execution_count": 27,
     "metadata": {},
     "output_type": "execute_result"
    }
   ],
   "source": [
    "df_gross.isnull().sum()"
   ]
  },
  {
   "cell_type": "code",
   "execution_count": null,
   "metadata": {},
   "outputs": [],
   "source": []
  },
  {
   "cell_type": "markdown",
   "metadata": {},
   "source": [
    "## 4. Data Visualization"
   ]
  },
  {
   "cell_type": "markdown",
   "metadata": {},
   "source": [
    "### 4.1 Number of movies released per year"
   ]
  },
  {
   "cell_type": "code",
   "execution_count": 28,
   "metadata": {
    "tags": []
   },
   "outputs": [
    {
     "data": {
      "text/html": [
       "<div>\n",
       "<style scoped>\n",
       "    .dataframe tbody tr th:only-of-type {\n",
       "        vertical-align: middle;\n",
       "    }\n",
       "\n",
       "    .dataframe tbody tr th {\n",
       "        vertical-align: top;\n",
       "    }\n",
       "\n",
       "    .dataframe thead th {\n",
       "        text-align: right;\n",
       "    }\n",
       "</style>\n",
       "<table border=\"1\" class=\"dataframe\">\n",
       "  <thead>\n",
       "    <tr style=\"text-align: right;\">\n",
       "      <th></th>\n",
       "      <th>tconst</th>\n",
       "      <th>primary_title</th>\n",
       "      <th>runtime_minutes</th>\n",
       "      <th>genres</th>\n",
       "      <th>averagerating</th>\n",
       "      <th>numvotes</th>\n",
       "    </tr>\n",
       "    <tr>\n",
       "      <th>start_year</th>\n",
       "      <th></th>\n",
       "      <th></th>\n",
       "      <th></th>\n",
       "      <th></th>\n",
       "      <th></th>\n",
       "      <th></th>\n",
       "    </tr>\n",
       "  </thead>\n",
       "  <tbody>\n",
       "    <tr>\n",
       "      <th>2010</th>\n",
       "      <td>6701</td>\n",
       "      <td>6701</td>\n",
       "      <td>6701</td>\n",
       "      <td>6701</td>\n",
       "      <td>6701</td>\n",
       "      <td>6701</td>\n",
       "    </tr>\n",
       "    <tr>\n",
       "      <th>2011</th>\n",
       "      <td>7274</td>\n",
       "      <td>7274</td>\n",
       "      <td>7274</td>\n",
       "      <td>7274</td>\n",
       "      <td>7274</td>\n",
       "      <td>7274</td>\n",
       "    </tr>\n",
       "    <tr>\n",
       "      <th>2012</th>\n",
       "      <td>7602</td>\n",
       "      <td>7602</td>\n",
       "      <td>7602</td>\n",
       "      <td>7602</td>\n",
       "      <td>7602</td>\n",
       "      <td>7602</td>\n",
       "    </tr>\n",
       "    <tr>\n",
       "      <th>2013</th>\n",
       "      <td>7905</td>\n",
       "      <td>7905</td>\n",
       "      <td>7905</td>\n",
       "      <td>7905</td>\n",
       "      <td>7905</td>\n",
       "      <td>7905</td>\n",
       "    </tr>\n",
       "    <tr>\n",
       "      <th>2014</th>\n",
       "      <td>8269</td>\n",
       "      <td>8269</td>\n",
       "      <td>8269</td>\n",
       "      <td>8269</td>\n",
       "      <td>8269</td>\n",
       "      <td>8269</td>\n",
       "    </tr>\n",
       "    <tr>\n",
       "      <th>2015</th>\n",
       "      <td>8405</td>\n",
       "      <td>8405</td>\n",
       "      <td>8405</td>\n",
       "      <td>8405</td>\n",
       "      <td>8405</td>\n",
       "      <td>8405</td>\n",
       "    </tr>\n",
       "    <tr>\n",
       "      <th>2016</th>\n",
       "      <td>8613</td>\n",
       "      <td>8613</td>\n",
       "      <td>8613</td>\n",
       "      <td>8613</td>\n",
       "      <td>8613</td>\n",
       "      <td>8613</td>\n",
       "    </tr>\n",
       "    <tr>\n",
       "      <th>2017</th>\n",
       "      <td>8638</td>\n",
       "      <td>8638</td>\n",
       "      <td>8638</td>\n",
       "      <td>8638</td>\n",
       "      <td>8638</td>\n",
       "      <td>8638</td>\n",
       "    </tr>\n",
       "    <tr>\n",
       "      <th>2018</th>\n",
       "      <td>7476</td>\n",
       "      <td>7476</td>\n",
       "      <td>7476</td>\n",
       "      <td>7476</td>\n",
       "      <td>7476</td>\n",
       "      <td>7476</td>\n",
       "    </tr>\n",
       "    <tr>\n",
       "      <th>2019</th>\n",
       "      <td>2169</td>\n",
       "      <td>2169</td>\n",
       "      <td>2169</td>\n",
       "      <td>2169</td>\n",
       "      <td>2169</td>\n",
       "      <td>2169</td>\n",
       "    </tr>\n",
       "  </tbody>\n",
       "</table>\n",
       "</div>"
      ],
      "text/plain": [
       "            tconst  primary_title  runtime_minutes  genres  averagerating  \\\n",
       "start_year                                                                  \n",
       "2010          6701           6701             6701    6701           6701   \n",
       "2011          7274           7274             7274    7274           7274   \n",
       "2012          7602           7602             7602    7602           7602   \n",
       "2013          7905           7905             7905    7905           7905   \n",
       "2014          8269           8269             8269    8269           8269   \n",
       "2015          8405           8405             8405    8405           8405   \n",
       "2016          8613           8613             8613    8613           8613   \n",
       "2017          8638           8638             8638    8638           8638   \n",
       "2018          7476           7476             7476    7476           7476   \n",
       "2019          2169           2169             2169    2169           2169   \n",
       "\n",
       "            numvotes  \n",
       "start_year            \n",
       "2010            6701  \n",
       "2011            7274  \n",
       "2012            7602  \n",
       "2013            7905  \n",
       "2014            8269  \n",
       "2015            8405  \n",
       "2016            8613  \n",
       "2017            8638  \n",
       "2018            7476  \n",
       "2019            2169  "
      ]
     },
     "execution_count": 28,
     "metadata": {},
     "output_type": "execute_result"
    }
   ],
   "source": [
    "movies_year = df_titles_reviews.groupby('start_year').count()\n",
    "movies_year"
   ]
  },
  {
   "cell_type": "code",
   "execution_count": 29,
   "metadata": {
    "tags": []
   },
   "outputs": [
    {
     "data": {
      "image/png": "[encoded data removed]",
      "text/plain": [
       "<Figure size 1000x600 with 1 Axes>"
      ]
     },
     "metadata": {},
     "output_type": "display_data"
    }
   ],
   "source": [
    "# Ploting the number of movies per year between 2010 and 2019\n",
    "\n",
    "plt.figure(figsize = (10,6))\n",
    "plt.plot(movies_year)\n",
    "plt.title(\"Number of Movies released between the years 2010 and 2019\")\n",
    "plt.xlabel(\"Year\")\n",
    "plt.ylabel('Number of Movies')\n",
    "plt.show()"
   ]
  },
  {
   "cell_type": "raw",
   "metadata": {},
   "source": [
    "From the above graph, there is a notable drop in movie releases for the year 2019. The drop can be attribited to the begining of COVID-19 that affected in person interactions that is essential for movie production. Additionally, releases of alredy produced movies was delayed since fans would not be able to go to the movies, whose ticket purchases form a large part on the income.\n",
    "\n"
   ]
  },
  {
   "cell_type": "code",
   "execution_count": 30,
   "metadata": {
    "tags": []
   },
   "outputs": [
    {
     "data": {
      "image/png": "[encoded data removed]",
      "text/plain": [
       "<Figure size 1000x600 with 1 Axes>"
      ]
     },
     "metadata": {},
     "output_type": "display_data"
    }
   ],
   "source": [
    "## Movie releases per year, exculing the year 2019\n",
    "movie_year = df_titles_reviews[df_titles_reviews['start_year'] != 2019]\n",
    "movies_year = movie_year.groupby('start_year').count()\n",
    "movies_year\n",
    "\n",
    "#Ploting without movies released in 2019\n",
    "plt.figure(figsize = (10,6))\n",
    "plt.plot(movies_year)\n",
    "plt.title(\"Number of Movies released between the years 2010 and 2018\")\n",
    "plt.xlabel(\"Year\")\n",
    "plt.ylabel('Number of Movies')\n",
    "plt.show()\n",
    "\n",
    "\n",
    "\n"
   ]
  },
  {
   "cell_type": "markdown",
   "metadata": {},
   "source": [
    "### 4.2 Average Movie ratings\n"
   ]
  },
  {
   "cell_type": "code",
   "execution_count": 31,
   "metadata": {
    "tags": []
   },
   "outputs": [
    {
     "data": {
      "text/html": [
       "<div>\n",
       "<style scoped>\n",
       "    .dataframe tbody tr th:only-of-type {\n",
       "        vertical-align: middle;\n",
       "    }\n",
       "\n",
       "    .dataframe tbody tr th {\n",
       "        vertical-align: top;\n",
       "    }\n",
       "\n",
       "    .dataframe thead th {\n",
       "        text-align: right;\n",
       "    }\n",
       "</style>\n",
       "<table border=\"1\" class=\"dataframe\">\n",
       "  <thead>\n",
       "    <tr style=\"text-align: right;\">\n",
       "      <th></th>\n",
       "      <th>tconst</th>\n",
       "      <th>primary_title</th>\n",
       "      <th>start_year</th>\n",
       "      <th>runtime_minutes</th>\n",
       "      <th>genres</th>\n",
       "      <th>averagerating</th>\n",
       "      <th>numvotes</th>\n",
       "    </tr>\n",
       "  </thead>\n",
       "  <tbody>\n",
       "    <tr>\n",
       "      <th>0</th>\n",
       "      <td>tt0063540</td>\n",
       "      <td>Sunghursh</td>\n",
       "      <td>2013</td>\n",
       "      <td>175.00000</td>\n",
       "      <td>Action,Crime,Drama</td>\n",
       "      <td>7.0</td>\n",
       "      <td>77</td>\n",
       "    </tr>\n",
       "    <tr>\n",
       "      <th>1</th>\n",
       "      <td>tt0066787</td>\n",
       "      <td>One Day Before the Rainy Season</td>\n",
       "      <td>2019</td>\n",
       "      <td>114.00000</td>\n",
       "      <td>Biography,Drama</td>\n",
       "      <td>7.2</td>\n",
       "      <td>43</td>\n",
       "    </tr>\n",
       "    <tr>\n",
       "      <th>2</th>\n",
       "      <td>tt0069049</td>\n",
       "      <td>The Other Side of the Wind</td>\n",
       "      <td>2018</td>\n",
       "      <td>122.00000</td>\n",
       "      <td>Drama</td>\n",
       "      <td>6.9</td>\n",
       "      <td>4517</td>\n",
       "    </tr>\n",
       "    <tr>\n",
       "      <th>3</th>\n",
       "      <td>tt0069204</td>\n",
       "      <td>Sabse Bada Sukh</td>\n",
       "      <td>2018</td>\n",
       "      <td>94.65404</td>\n",
       "      <td>Comedy,Drama</td>\n",
       "      <td>6.1</td>\n",
       "      <td>13</td>\n",
       "    </tr>\n",
       "    <tr>\n",
       "      <th>4</th>\n",
       "      <td>tt0100275</td>\n",
       "      <td>The Wandering Soap Opera</td>\n",
       "      <td>2017</td>\n",
       "      <td>80.00000</td>\n",
       "      <td>Comedy,Drama,Fantasy</td>\n",
       "      <td>6.5</td>\n",
       "      <td>119</td>\n",
       "    </tr>\n",
       "  </tbody>\n",
       "</table>\n",
       "</div>"
      ],
      "text/plain": [
       "      tconst                    primary_title  start_year  runtime_minutes  \\\n",
       "0  tt0063540                        Sunghursh        2013        175.00000   \n",
       "1  tt0066787  One Day Before the Rainy Season        2019        114.00000   \n",
       "2  tt0069049       The Other Side of the Wind        2018        122.00000   \n",
       "3  tt0069204                  Sabse Bada Sukh        2018         94.65404   \n",
       "4  tt0100275         The Wandering Soap Opera        2017         80.00000   \n",
       "\n",
       "                 genres  averagerating  numvotes  \n",
       "0    Action,Crime,Drama            7.0        77  \n",
       "1       Biography,Drama            7.2        43  \n",
       "2                 Drama            6.9      4517  \n",
       "3          Comedy,Drama            6.1        13  \n",
       "4  Comedy,Drama,Fantasy            6.5       119  "
      ]
     },
     "execution_count": 31,
     "metadata": {},
     "output_type": "execute_result"
    }
   ],
   "source": [
    "df_titles_reviews.head()"
   ]
  },
  {
   "cell_type": "raw",
   "metadata": {},
   "source": []
  },
  {
   "cell_type": "code",
   "execution_count": 32,
   "metadata": {
    "tags": []
   },
   "outputs": [
    {
     "data": {
      "text/plain": [
       "start_year\n",
       "2010    6.256245\n",
       "2011    6.287352\n",
       "2012    6.296212\n",
       "2013    6.285693\n",
       "2014    6.319761\n",
       "2015    6.265854\n",
       "2016    6.344421\n",
       "2017    6.392359\n",
       "2018    6.414393\n",
       "2019    6.703227\n",
       "Name: averagerating, dtype: float64"
      ]
     },
     "execution_count": 32,
     "metadata": {},
     "output_type": "execute_result"
    }
   ],
   "source": [
    "year_rating =  df_titles_reviews.groupby('start_year')['averagerating'].mean()\n",
    "year_rating"
   ]
  },
  {
   "cell_type": "code",
   "execution_count": 33,
   "metadata": {
    "tags": []
   },
   "outputs": [
    {
     "data": {
      "image/png": "[encoded data removed]",
      "text/plain": [
       "<Figure size 1000x600 with 1 Axes>"
      ]
     },
     "metadata": {},
     "output_type": "display_data"
    }
   ],
   "source": [
    "plt.figure(figsize = (10,6))\n",
    "plt.plot(year_rating)\n",
    "plt.title(\"Average Viewers Rating of Movies released between the years 2010 and 2019\")\n",
    "plt.xlabel(\"Year\")\n",
    "plt.ylabel('Average rating')\n",
    "plt.show()\n"
   ]
  },
  {
   "cell_type": "markdown",
   "metadata": {},
   "source": [
    "### 4.3. Most popular movies"
   ]
  },
  {
   "cell_type": "raw",
   "metadata": {},
   "source": [
    "Accoring to From IMDB, The formula for calculating the Top Rated Titles is determined by using a true Bayesian estimate. i.e.\n",
    "weighted rating (WR) = (v ÷ (v+m)) × R + (m ÷ (v+m)) × C where:\n",
    "\n",
    "R = average for the movie (mean) = (Rating)\n",
    "v = number of votes for the movie = (votes)\n",
    "m = minimum votes required to be listed in the Top 250 (currently 3000)\n",
    "C = the mean vote across the whole report (currently 6.9)"
   ]
  },
  {
   "cell_type": "code",
   "execution_count": 34,
   "metadata": {
    "tags": []
   },
   "outputs": [
    {
     "name": "stdout",
     "output_type": "stream",
     "text": [
      "<class 'pandas.core.frame.DataFrame'>\n",
      "Int64Index: 73052 entries, 0 to 73855\n",
      "Data columns (total 7 columns):\n",
      " #   Column           Non-Null Count  Dtype  \n",
      "---  ------           --------------  -----  \n",
      " 0   tconst           73052 non-null  object \n",
      " 1   primary_title    73052 non-null  object \n",
      " 2   start_year       73052 non-null  int64  \n",
      " 3   runtime_minutes  73052 non-null  float64\n",
      " 4   genres           73052 non-null  object \n",
      " 5   averagerating    73052 non-null  float64\n",
      " 6   numvotes         73052 non-null  int64  \n",
      "dtypes: float64(2), int64(2), object(3)\n",
      "memory usage: 4.5+ MB\n"
     ]
    }
   ],
   "source": [
    "df_titles_reviews.info()"
   ]
  },
  {
   "cell_type": "code",
   "execution_count": 35,
   "metadata": {
    "tags": []
   },
   "outputs": [
    {
     "data": {
      "text/html": [
       "<div>\n",
       "<style scoped>\n",
       "    .dataframe tbody tr th:only-of-type {\n",
       "        vertical-align: middle;\n",
       "    }\n",
       "\n",
       "    .dataframe tbody tr th {\n",
       "        vertical-align: top;\n",
       "    }\n",
       "\n",
       "    .dataframe thead th {\n",
       "        text-align: right;\n",
       "    }\n",
       "</style>\n",
       "<table border=\"1\" class=\"dataframe\">\n",
       "  <thead>\n",
       "    <tr style=\"text-align: right;\">\n",
       "      <th></th>\n",
       "      <th>tconst</th>\n",
       "      <th>primary_title</th>\n",
       "      <th>start_year</th>\n",
       "      <th>runtime_minutes</th>\n",
       "      <th>genres</th>\n",
       "      <th>averagerating</th>\n",
       "      <th>numvotes</th>\n",
       "      <th>weighted_rating</th>\n",
       "    </tr>\n",
       "  </thead>\n",
       "  <tbody>\n",
       "    <tr>\n",
       "      <th>0</th>\n",
       "      <td>tt0063540</td>\n",
       "      <td>Sunghursh</td>\n",
       "      <td>2013</td>\n",
       "      <td>175.00000</td>\n",
       "      <td>Action,Crime,Drama</td>\n",
       "      <td>7.0</td>\n",
       "      <td>77</td>\n",
       "      <td>6.347673</td>\n",
       "    </tr>\n",
       "    <tr>\n",
       "      <th>1</th>\n",
       "      <td>tt0066787</td>\n",
       "      <td>One Day Before the Rainy Season</td>\n",
       "      <td>2019</td>\n",
       "      <td>114.00000</td>\n",
       "      <td>Biography,Drama</td>\n",
       "      <td>7.2</td>\n",
       "      <td>43</td>\n",
       "      <td>6.343211</td>\n",
       "    </tr>\n",
       "    <tr>\n",
       "      <th>2</th>\n",
       "      <td>tt0069049</td>\n",
       "      <td>The Other Side of the Wind</td>\n",
       "      <td>2018</td>\n",
       "      <td>122.00000</td>\n",
       "      <td>Drama</td>\n",
       "      <td>6.9</td>\n",
       "      <td>4517</td>\n",
       "      <td>6.672887</td>\n",
       "    </tr>\n",
       "    <tr>\n",
       "      <th>3</th>\n",
       "      <td>tt0069204</td>\n",
       "      <td>Sabse Bada Sukh</td>\n",
       "      <td>2018</td>\n",
       "      <td>94.65404</td>\n",
       "      <td>Comedy,Drama</td>\n",
       "      <td>6.1</td>\n",
       "      <td>13</td>\n",
       "      <td>6.329934</td>\n",
       "    </tr>\n",
       "    <tr>\n",
       "      <th>4</th>\n",
       "      <td>tt0100275</td>\n",
       "      <td>The Wandering Soap Opera</td>\n",
       "      <td>2017</td>\n",
       "      <td>80.00000</td>\n",
       "      <td>Comedy,Drama,Fantasy</td>\n",
       "      <td>6.5</td>\n",
       "      <td>119</td>\n",
       "      <td>6.337381</td>\n",
       "    </tr>\n",
       "  </tbody>\n",
       "</table>\n",
       "</div>"
      ],
      "text/plain": [
       "      tconst                    primary_title  start_year  runtime_minutes  \\\n",
       "0  tt0063540                        Sunghursh        2013        175.00000   \n",
       "1  tt0066787  One Day Before the Rainy Season        2019        114.00000   \n",
       "2  tt0069049       The Other Side of the Wind        2018        122.00000   \n",
       "3  tt0069204                  Sabse Bada Sukh        2018         94.65404   \n",
       "4  tt0100275         The Wandering Soap Opera        2017         80.00000   \n",
       "\n",
       "                 genres  averagerating  numvotes  weighted_rating  \n",
       "0    Action,Crime,Drama            7.0        77         6.347673  \n",
       "1       Biography,Drama            7.2        43         6.343211  \n",
       "2                 Drama            6.9      4517         6.672887  \n",
       "3          Comedy,Drama            6.1        13         6.329934  \n",
       "4  Comedy,Drama,Fantasy            6.5       119         6.337381  "
      ]
     },
     "execution_count": 35,
     "metadata": {},
     "output_type": "execute_result"
    }
   ],
   "source": [
    "#We calculate the average rating of all the movies in our data Frame\n",
    "\n",
    "average_rating = df_titles_reviews['averagerating'].mean()\n",
    "\n",
    "#We create a columns ' Weighted_Rating' that will be a result of the forular below\n",
    "'''\n",
    "weighted rating (WR) = (v ÷ (v+m)) × R + (m ÷ (v+m)) × C where:\n",
    "\n",
    "R = average for the movie (mean) = (Rating)\n",
    "v = number of votes for the movie = (votes)\n",
    "m = minimum votes required to be listed in the Top 250 (currently 3000)\n",
    "C = the mean vote across the whole report (currently 6.9)\n",
    "\n",
    "''' \n",
    "df_titles_reviews['weighted_rating']  = (df_titles_reviews['numvotes'] / (df_titles_reviews['numvotes'] + 3000)) * df_titles_reviews['averagerating'] + (3000 / (df_titles_reviews['numvotes'] + 3000)) * average_rating\n",
    "\n",
    "df_titles_reviews.head()\n"
   ]
  },
  {
   "cell_type": "code",
   "execution_count": 36,
   "metadata": {
    "tags": []
   },
   "outputs": [
    {
     "data": {
      "text/html": [
       "<div>\n",
       "<style scoped>\n",
       "    .dataframe tbody tr th:only-of-type {\n",
       "        vertical-align: middle;\n",
       "    }\n",
       "\n",
       "    .dataframe tbody tr th {\n",
       "        vertical-align: top;\n",
       "    }\n",
       "\n",
       "    .dataframe thead th {\n",
       "        text-align: right;\n",
       "    }\n",
       "</style>\n",
       "<table border=\"1\" class=\"dataframe\">\n",
       "  <thead>\n",
       "    <tr style=\"text-align: right;\">\n",
       "      <th></th>\n",
       "      <th>primary_title</th>\n",
       "      <th>averagerating</th>\n",
       "      <th>genres</th>\n",
       "    </tr>\n",
       "  </thead>\n",
       "  <tbody>\n",
       "    <tr>\n",
       "      <th>9745</th>\n",
       "      <td>Freeing Bernie Baran</td>\n",
       "      <td>10.0</td>\n",
       "      <td>Crime,Documentary</td>\n",
       "    </tr>\n",
       "    <tr>\n",
       "      <th>53689</th>\n",
       "      <td>The Paternal Bond: Barbary Macaques</td>\n",
       "      <td>10.0</td>\n",
       "      <td>Documentary</td>\n",
       "    </tr>\n",
       "    <tr>\n",
       "      <th>65944</th>\n",
       "      <td>Calamity Kevin</td>\n",
       "      <td>10.0</td>\n",
       "      <td>Adventure,Comedy</td>\n",
       "    </tr>\n",
       "    <tr>\n",
       "      <th>42970</th>\n",
       "      <td>I Was Born Yesterday!</td>\n",
       "      <td>10.0</td>\n",
       "      <td>Documentary</td>\n",
       "    </tr>\n",
       "    <tr>\n",
       "      <th>50085</th>\n",
       "      <td>Revolution Food</td>\n",
       "      <td>10.0</td>\n",
       "      <td>Documentary</td>\n",
       "    </tr>\n",
       "    <tr>\n",
       "      <th>878</th>\n",
       "      <td>The Dark Knight: The Ballad of the N Word</td>\n",
       "      <td>10.0</td>\n",
       "      <td>Comedy,Drama</td>\n",
       "    </tr>\n",
       "    <tr>\n",
       "      <th>53408</th>\n",
       "      <td>All Around Us</td>\n",
       "      <td>10.0</td>\n",
       "      <td>Documentary</td>\n",
       "    </tr>\n",
       "    <tr>\n",
       "      <th>71577</th>\n",
       "      <td>Pick It Up! - Ska in the '90s</td>\n",
       "      <td>10.0</td>\n",
       "      <td>Documentary</td>\n",
       "    </tr>\n",
       "    <tr>\n",
       "      <th>49925</th>\n",
       "      <td>Dog Days in the Heartland</td>\n",
       "      <td>10.0</td>\n",
       "      <td>Drama</td>\n",
       "    </tr>\n",
       "    <tr>\n",
       "      <th>702</th>\n",
       "      <td>Exteriores: Mulheres Brasileiras na Diplomacia</td>\n",
       "      <td>10.0</td>\n",
       "      <td>Documentary</td>\n",
       "    </tr>\n",
       "    <tr>\n",
       "      <th>60782</th>\n",
       "      <td>Requiem voor een Boom</td>\n",
       "      <td>10.0</td>\n",
       "      <td>Documentary</td>\n",
       "    </tr>\n",
       "    <tr>\n",
       "      <th>65755</th>\n",
       "      <td>Ellis Island: The Making of a Master Race in A...</td>\n",
       "      <td>10.0</td>\n",
       "      <td>Documentary,History</td>\n",
       "    </tr>\n",
       "    <tr>\n",
       "      <th>73616</th>\n",
       "      <td>Renegade</td>\n",
       "      <td>10.0</td>\n",
       "      <td>Documentary</td>\n",
       "    </tr>\n",
       "    <tr>\n",
       "      <th>51109</th>\n",
       "      <td>Fly High: Story of the Disc Dog</td>\n",
       "      <td>10.0</td>\n",
       "      <td>Documentary</td>\n",
       "    </tr>\n",
       "    <tr>\n",
       "      <th>27335</th>\n",
       "      <td>Hercule contre Hermès</td>\n",
       "      <td>10.0</td>\n",
       "      <td>Documentary</td>\n",
       "    </tr>\n",
       "    <tr>\n",
       "      <th>64646</th>\n",
       "      <td>A Dedicated Life: Phoebe Brand Beyond the Group</td>\n",
       "      <td>10.0</td>\n",
       "      <td>Documentary</td>\n",
       "    </tr>\n",
       "    <tr>\n",
       "      <th>73648</th>\n",
       "      <td>The Wedding Present: Something Left Behind</td>\n",
       "      <td>9.9</td>\n",
       "      <td>Documentary</td>\n",
       "    </tr>\n",
       "    <tr>\n",
       "      <th>73343</th>\n",
       "      <td>Gini Helida Kathe</td>\n",
       "      <td>9.9</td>\n",
       "      <td>Drama</td>\n",
       "    </tr>\n",
       "    <tr>\n",
       "      <th>73797</th>\n",
       "      <td>Wild Karnataka</td>\n",
       "      <td>9.9</td>\n",
       "      <td>Documentary</td>\n",
       "    </tr>\n",
       "    <tr>\n",
       "      <th>73741</th>\n",
       "      <td>Moscow we will lose</td>\n",
       "      <td>9.9</td>\n",
       "      <td>Documentary</td>\n",
       "    </tr>\n",
       "  </tbody>\n",
       "</table>\n",
       "</div>"
      ],
      "text/plain": [
       "                                           primary_title  averagerating  \\\n",
       "9745                                Freeing Bernie Baran           10.0   \n",
       "53689                The Paternal Bond: Barbary Macaques           10.0   \n",
       "65944                                     Calamity Kevin           10.0   \n",
       "42970                              I Was Born Yesterday!           10.0   \n",
       "50085                                    Revolution Food           10.0   \n",
       "878            The Dark Knight: The Ballad of the N Word           10.0   \n",
       "53408                                      All Around Us           10.0   \n",
       "71577                      Pick It Up! - Ska in the '90s           10.0   \n",
       "49925                          Dog Days in the Heartland           10.0   \n",
       "702       Exteriores: Mulheres Brasileiras na Diplomacia           10.0   \n",
       "60782                              Requiem voor een Boom           10.0   \n",
       "65755  Ellis Island: The Making of a Master Race in A...           10.0   \n",
       "73616                                           Renegade           10.0   \n",
       "51109                    Fly High: Story of the Disc Dog           10.0   \n",
       "27335                              Hercule contre Hermès           10.0   \n",
       "64646    A Dedicated Life: Phoebe Brand Beyond the Group           10.0   \n",
       "73648         The Wedding Present: Something Left Behind            9.9   \n",
       "73343                                  Gini Helida Kathe            9.9   \n",
       "73797                                     Wild Karnataka            9.9   \n",
       "73741                                Moscow we will lose            9.9   \n",
       "\n",
       "                    genres  \n",
       "9745     Crime,Documentary  \n",
       "53689          Documentary  \n",
       "65944     Adventure,Comedy  \n",
       "42970          Documentary  \n",
       "50085          Documentary  \n",
       "878           Comedy,Drama  \n",
       "53408          Documentary  \n",
       "71577          Documentary  \n",
       "49925                Drama  \n",
       "702            Documentary  \n",
       "60782          Documentary  \n",
       "65755  Documentary,History  \n",
       "73616          Documentary  \n",
       "51109          Documentary  \n",
       "27335          Documentary  \n",
       "64646          Documentary  \n",
       "73648          Documentary  \n",
       "73343                Drama  \n",
       "73797          Documentary  \n",
       "73741          Documentary  "
      ]
     },
     "execution_count": 36,
     "metadata": {},
     "output_type": "execute_result"
    }
   ],
   "source": [
    "### Otaining the Higgest Rated Movies using average rating\n",
    "\n",
    "movies_ratings = df_titles_reviews[['primary_title','averagerating','genres']].sort_values(by = 'averagerating', ascending =  False)\n",
    "movies_ratings.head(20)"
   ]
  },
  {
   "cell_type": "code",
   "execution_count": 37,
   "metadata": {
    "tags": []
   },
   "outputs": [
    {
     "data": {
      "text/html": [
       "<div>\n",
       "<style scoped>\n",
       "    .dataframe tbody tr th:only-of-type {\n",
       "        vertical-align: middle;\n",
       "    }\n",
       "\n",
       "    .dataframe tbody tr th {\n",
       "        vertical-align: top;\n",
       "    }\n",
       "\n",
       "    .dataframe thead th {\n",
       "        text-align: right;\n",
       "    }\n",
       "</style>\n",
       "<table border=\"1\" class=\"dataframe\">\n",
       "  <thead>\n",
       "    <tr style=\"text-align: right;\">\n",
       "      <th></th>\n",
       "      <th>primary_title</th>\n",
       "      <th>weighted_rating</th>\n",
       "      <th>genres</th>\n",
       "    </tr>\n",
       "  </thead>\n",
       "  <tbody>\n",
       "    <tr>\n",
       "      <th>56850</th>\n",
       "      <td>The Mountain II</td>\n",
       "      <td>9.213997</td>\n",
       "      <td>Action,Drama,War</td>\n",
       "    </tr>\n",
       "    <tr>\n",
       "      <th>26882</th>\n",
       "      <td>CM101MMXI Fundamentals</td>\n",
       "      <td>9.006840</td>\n",
       "      <td>Comedy,Documentary</td>\n",
       "    </tr>\n",
       "    <tr>\n",
       "      <th>53484</th>\n",
       "      <td>Aynabaji</td>\n",
       "      <td>8.885132</td>\n",
       "      <td>Crime,Mystery,Thriller</td>\n",
       "    </tr>\n",
       "    <tr>\n",
       "      <th>18708</th>\n",
       "      <td>Wheels</td>\n",
       "      <td>8.861394</td>\n",
       "      <td>Drama</td>\n",
       "    </tr>\n",
       "    <tr>\n",
       "      <th>2387</th>\n",
       "      <td>Inception</td>\n",
       "      <td>8.795983</td>\n",
       "      <td>Action,Adventure,Sci-Fi</td>\n",
       "    </tr>\n",
       "    <tr>\n",
       "      <th>43420</th>\n",
       "      <td>Avengers: Endgame</td>\n",
       "      <td>8.783322</td>\n",
       "      <td>Action,Adventure,Sci-Fi</td>\n",
       "    </tr>\n",
       "    <tr>\n",
       "      <th>68282</th>\n",
       "      <td>Peranbu</td>\n",
       "      <td>8.670947</td>\n",
       "      <td>Drama</td>\n",
       "    </tr>\n",
       "    <tr>\n",
       "      <th>280</th>\n",
       "      <td>Interstellar</td>\n",
       "      <td>8.594773</td>\n",
       "      <td>Adventure,Drama,Sci-Fi</td>\n",
       "    </tr>\n",
       "    <tr>\n",
       "      <th>35739</th>\n",
       "      <td>Drishyam</td>\n",
       "      <td>8.528932</td>\n",
       "      <td>Crime,Drama,Thriller</td>\n",
       "    </tr>\n",
       "    <tr>\n",
       "      <th>65296</th>\n",
       "      <td>Once Upon a Time ... in Hollywood</td>\n",
       "      <td>8.524743</td>\n",
       "      <td>Comedy,Drama</td>\n",
       "    </tr>\n",
       "    <tr>\n",
       "      <th>58030</th>\n",
       "      <td>Aloko Udapadi</td>\n",
       "      <td>8.500188</td>\n",
       "      <td>Drama,History</td>\n",
       "    </tr>\n",
       "    <tr>\n",
       "      <th>7125</th>\n",
       "      <td>The Intouchables</td>\n",
       "      <td>8.490435</td>\n",
       "      <td>Biography,Comedy,Drama</td>\n",
       "    </tr>\n",
       "    <tr>\n",
       "      <th>43419</th>\n",
       "      <td>Avengers: Infinity War</td>\n",
       "      <td>8.490344</td>\n",
       "      <td>Action,Adventure,Sci-Fi</td>\n",
       "    </tr>\n",
       "    <tr>\n",
       "      <th>26774</th>\n",
       "      <td>Whiplash</td>\n",
       "      <td>8.489503</td>\n",
       "      <td>Drama,Music</td>\n",
       "    </tr>\n",
       "    <tr>\n",
       "      <th>2770</th>\n",
       "      <td>Senna</td>\n",
       "      <td>8.483274</td>\n",
       "      <td>Biography,Documentary,Sport</td>\n",
       "    </tr>\n",
       "    <tr>\n",
       "      <th>52801</th>\n",
       "      <td>O.J.: Made in America</td>\n",
       "      <td>8.470533</td>\n",
       "      <td>Biography,Crime,Documentary</td>\n",
       "    </tr>\n",
       "    <tr>\n",
       "      <th>47436</th>\n",
       "      <td>Spider-Man: Into the Spider-Verse</td>\n",
       "      <td>8.469574</td>\n",
       "      <td>Action,Adventure,Animation</td>\n",
       "    </tr>\n",
       "    <tr>\n",
       "      <th>60877</th>\n",
       "      <td>Ayla: The Daughter of War</td>\n",
       "      <td>8.461046</td>\n",
       "      <td>Drama,History,War</td>\n",
       "    </tr>\n",
       "    <tr>\n",
       "      <th>50962</th>\n",
       "      <td>Dangal</td>\n",
       "      <td>8.448616</td>\n",
       "      <td>Action,Biography,Drama</td>\n",
       "    </tr>\n",
       "    <tr>\n",
       "      <th>2241</th>\n",
       "      <td>The Dark Knight Rises</td>\n",
       "      <td>8.395537</td>\n",
       "      <td>Action,Thriller</td>\n",
       "    </tr>\n",
       "  </tbody>\n",
       "</table>\n",
       "</div>"
      ],
      "text/plain": [
       "                           primary_title  weighted_rating  \\\n",
       "56850                    The Mountain II         9.213997   \n",
       "26882             CM101MMXI Fundamentals         9.006840   \n",
       "53484                           Aynabaji         8.885132   \n",
       "18708                             Wheels         8.861394   \n",
       "2387                           Inception         8.795983   \n",
       "43420                  Avengers: Endgame         8.783322   \n",
       "68282                            Peranbu         8.670947   \n",
       "280                         Interstellar         8.594773   \n",
       "35739                           Drishyam         8.528932   \n",
       "65296  Once Upon a Time ... in Hollywood         8.524743   \n",
       "58030                      Aloko Udapadi         8.500188   \n",
       "7125                    The Intouchables         8.490435   \n",
       "43419             Avengers: Infinity War         8.490344   \n",
       "26774                           Whiplash         8.489503   \n",
       "2770                               Senna         8.483274   \n",
       "52801              O.J.: Made in America         8.470533   \n",
       "47436  Spider-Man: Into the Spider-Verse         8.469574   \n",
       "60877          Ayla: The Daughter of War         8.461046   \n",
       "50962                             Dangal         8.448616   \n",
       "2241               The Dark Knight Rises         8.395537   \n",
       "\n",
       "                            genres  \n",
       "56850             Action,Drama,War  \n",
       "26882           Comedy,Documentary  \n",
       "53484       Crime,Mystery,Thriller  \n",
       "18708                        Drama  \n",
       "2387       Action,Adventure,Sci-Fi  \n",
       "43420      Action,Adventure,Sci-Fi  \n",
       "68282                        Drama  \n",
       "280         Adventure,Drama,Sci-Fi  \n",
       "35739         Crime,Drama,Thriller  \n",
       "65296                 Comedy,Drama  \n",
       "58030                Drama,History  \n",
       "7125        Biography,Comedy,Drama  \n",
       "43419      Action,Adventure,Sci-Fi  \n",
       "26774                  Drama,Music  \n",
       "2770   Biography,Documentary,Sport  \n",
       "52801  Biography,Crime,Documentary  \n",
       "47436   Action,Adventure,Animation  \n",
       "60877            Drama,History,War  \n",
       "50962       Action,Biography,Drama  \n",
       "2241               Action,Thriller  "
      ]
     },
     "execution_count": 37,
     "metadata": {},
     "output_type": "execute_result"
    }
   ],
   "source": [
    "### Otaining the Higgest Rated Movies using weighted rating\n",
    "\n",
    "movies_ratings = df_titles_reviews[['primary_title','weighted_rating','genres']].sort_values(by = 'weighted_rating', ascending =  False)\n",
    "movies_ratings.head(20)"
   ]
  },
  {
   "cell_type": "code",
   "execution_count": 38,
   "metadata": {
    "tags": []
   },
   "outputs": [
    {
     "data": {
      "text/plain": [
       "start_year\n",
       "2010    6.318615\n",
       "2011    6.313994\n",
       "2012    6.310523\n",
       "2013    6.314277\n",
       "2014    6.315023\n",
       "2015    6.314232\n",
       "2016    6.317638\n",
       "2017    6.319027\n",
       "2018    6.326758\n",
       "2019    6.338246\n",
       "Name: weighted_rating, dtype: float64"
      ]
     },
     "execution_count": 38,
     "metadata": {},
     "output_type": "execute_result"
    }
   ],
   "source": [
    "year_weighted_rating =  df_titles_reviews.groupby('start_year')['weighted_rating'].mean()\n",
    "year_weighted_rating"
   ]
  },
  {
   "cell_type": "code",
   "execution_count": 39,
   "metadata": {
    "tags": []
   },
   "outputs": [
    {
     "data": {
      "image/png": "[encoded data removed]",
      "text/plain": [
       "<Figure size 1000x600 with 1 Axes>"
      ]
     },
     "metadata": {},
     "output_type": "display_data"
    }
   ],
   "source": [
    "plt.figure(figsize = (10,6))\n",
    "plt.plot(year_weighted_rating)\n",
    "plt.title(\"Average Viewers weighted Rating of Movies released between the years 2010 and 2019\")\n",
    "plt.xlabel(\"Year\")\n",
    "plt.ylabel('Average rating')\n",
    "plt.show()"
   ]
  },
  {
   "cell_type": "code",
   "execution_count": 40,
   "metadata": {
    "tags": []
   },
   "outputs": [
    {
     "data": {
      "text/plain": [
       "0        175.00000\n",
       "1        114.00000\n",
       "2        122.00000\n",
       "3         94.65404\n",
       "4         80.00000\n",
       "           ...    \n",
       "73850     86.00000\n",
       "73851     75.00000\n",
       "73852     98.00000\n",
       "73853     94.65404\n",
       "73855     72.00000\n",
       "Name: runtime_minutes, Length: 73052, dtype: float64"
      ]
     },
     "execution_count": 40,
     "metadata": {},
     "output_type": "execute_result"
    }
   ],
   "source": [
    "df_titles_reviews['runtime_minutes']"
   ]
  },
  {
   "cell_type": "markdown",
   "metadata": {
    "tags": []
   },
   "source": [
    "### 4.4 Distribution of Movie run time"
   ]
  },
  {
   "cell_type": "code",
   "execution_count": 41,
   "metadata": {
    "tags": []
   },
   "outputs": [
    {
     "data": {
      "image/png": "[encoded data removed]",
      "text/plain": [
       "<Figure size 1000x600 with 1 Axes>"
      ]
     },
     "metadata": {},
     "output_type": "display_data"
    }
   ],
   "source": [
    "# Create the distribution plot\n",
    "plt.figure(figsize=(10, 6))  # Set the figure size\n",
    "plt.boxplot(df_titles_reviews['runtime_minutes'])  # Create the distribution plot\n",
    "plt.title('Distribution of Movie Run Time')  # Set the title of the plot\n",
    "plt.xlabel('Run Time (minutes)')  # Set the label for the x-axis\n",
    "plt.ylabel('Frequency')  # Set the label for the y-axis\n",
    "plt.show()  # Show the plot\n"
   ]
  },
  {
   "cell_type": "code",
   "execution_count": 42,
   "metadata": {
    "tags": []
   },
   "outputs": [
    {
     "name": "stdout",
     "output_type": "stream",
     "text": [
      " The average movie runtime is 94.72442126165141 while the maximum and minumum runtime in minutes is 51420.0 and 3.0\n"
     ]
    }
   ],
   "source": [
    "average_runtime = df_titles_reviews['runtime_minutes'].mean()\n",
    "min_runtime = df_titles_reviews['runtime_minutes'].min()\n",
    "max_runtime = df_titles_reviews['runtime_minutes'].max()\n",
    "mode_runtime = df_titles_reviews['runtime_minutes'].mode()\n",
    "\n",
    "print(f\" The average movie runtime is \" + str(average_runtime) + \" while the maximum and minumum runtime in minutes is \" + str(max_runtime)+ \" and \" +str(min_runtime))"
   ]
  },
  {
   "cell_type": "code",
   "execution_count": 43,
   "metadata": {
    "tags": []
   },
   "outputs": [
    {
     "name": "stdout",
     "output_type": "stream",
     "text": [
      "<class 'pandas.core.frame.DataFrame'>\n",
      "Int64Index: 73052 entries, 0 to 73855\n",
      "Data columns (total 8 columns):\n",
      " #   Column           Non-Null Count  Dtype  \n",
      "---  ------           --------------  -----  \n",
      " 0   tconst           73052 non-null  object \n",
      " 1   primary_title    73052 non-null  object \n",
      " 2   start_year       73052 non-null  int64  \n",
      " 3   runtime_minutes  73052 non-null  float64\n",
      " 4   genres           73052 non-null  object \n",
      " 5   averagerating    73052 non-null  float64\n",
      " 6   numvotes         73052 non-null  int64  \n",
      " 7   weighted_rating  73052 non-null  float64\n",
      "dtypes: float64(3), int64(2), object(3)\n",
      "memory usage: 5.0+ MB\n"
     ]
    }
   ],
   "source": [
    "df_titles_reviews.info()"
   ]
  },
  {
   "cell_type": "code",
   "execution_count": null,
   "metadata": {},
   "outputs": [],
   "source": []
  },
  {
   "cell_type": "markdown",
   "metadata": {},
   "source": [
    "### 4.5 Most Porpular Genre of Movie Releases"
   ]
  },
  {
   "cell_type": "code",
   "execution_count": 44,
   "metadata": {
    "tags": []
   },
   "outputs": [
    {
     "name": "stdout",
     "output_type": "stream",
     "text": [
      "Drama          30788\n",
      "Documentary    17753\n",
      "Comedy         17290\n",
      "Thriller        8217\n",
      "Horror          7674\n",
      "Action          6988\n",
      "Romance         6589\n",
      "Crime           4611\n",
      "Adventure       3817\n",
      "Biography       3809\n",
      "Family          3412\n",
      "Mystery         3039\n",
      "History         2825\n",
      "Sci-Fi          2206\n",
      "Fantasy         2126\n",
      "Music           1968\n",
      "Animation       1743\n",
      "Sport           1179\n",
      "War              853\n",
      "Musical          721\n",
      "News             579\n",
      "Western          280\n",
      "Reality-TV        17\n",
      "Adult              3\n",
      "Game-Show          2\n",
      "Short              1\n",
      "Name: genres, dtype: int64\n"
     ]
    }
   ],
   "source": [
    "# Splitting the 'genres' column by ',' and creating a list of genres for each row\n",
    "df_titles_reviews['genres'] = df_titles_reviews['genres'].str.split(',')\n",
    "\n",
    "# Exploding the list of genres into separate rows\n",
    "exploded_df = df_titles_reviews.explode('genres')\n",
    "\n",
    "# Getting the counts of each genre\n",
    "genre_counts = exploded_df['genres'].value_counts()\n",
    "\n",
    "\n",
    "# Displaying the DataFrame\n",
    "print(genre_counts)"
   ]
  },
  {
   "cell_type": "code",
   "execution_count": 59,
   "metadata": {
    "tags": []
   },
   "outputs": [
    {
     "data": {
      "image/png": "[encoded data removed]",
      "text/plain": [
       "<Figure size 1000x800 with 1 Axes>"
      ]
     },
     "metadata": {},
     "output_type": "display_data"
    }
   ],
   "source": [
    "## Visualizing porpular movie Genre\n",
    "\n",
    "plt.figure(figsize=(10, 8))\n",
    "sns.barplot(y=genre_counts.index, x=genre_counts.values, palette='muted')\n",
    "plt.xlabel('Frequency')\n",
    "plt.ylabel('Genre')\n",
    "plt.title('Movie Genres')\n",
    "plt.show()\n"
   ]
  },
  {
   "cell_type": "code",
   "execution_count": 58,
   "metadata": {
    "tags": []
   },
   "outputs": [
    {
     "data": {
      "image/png": "[encoded data removed]",
      "text/plain": [
       "<Figure size 1000x800 with 1 Axes>"
      ]
     },
     "metadata": {},
     "output_type": "display_data"
    }
   ],
   "source": [
    "## Visualizing the to_10 porpular movie Genre\n",
    "\n",
    "\n",
    "top_10 = genre_counts.head(10)\n",
    "plt.figure(figsize=(10, 8))\n",
    "sns.barplot(y=top_10.index, x= top_10.values, palette='muted')\n",
    "plt.xlabel('Frequency')\n",
    "plt.ylabel('Genre')\n",
    "plt.title('Top 10 Movie Genres')\n",
    "plt.show()"
   ]
  },
  {
   "cell_type": "markdown",
   "metadata": {},
   "source": [
    "### 4.6 Most porpular Movie Studios"
   ]
  },
  {
   "cell_type": "code",
   "execution_count": 47,
   "metadata": {
    "tags": []
   },
   "outputs": [],
   "source": [
    "studio_counts= df_gross['studio'].value_counts()\n",
    "top_studio_counts = studio_counts.head(15)"
   ]
  },
  {
   "cell_type": "code",
   "execution_count": 48,
   "metadata": {
    "tags": []
   },
   "outputs": [
    {
     "data": {
      "image/png": "[encoded data removed]",
      "text/plain": [
       "<Figure size 1000x800 with 1 Axes>"
      ]
     },
     "metadata": {},
     "output_type": "display_data"
    }
   ],
   "source": [
    "## Visualizing most porpular Movie Studios\n",
    "\n",
    "plt.figure(figsize=(10, 8))\n",
    "sns.barplot(y=top_studio_counts.index, x=top_studio_counts.values, palette='muted')\n",
    "plt.xlabel('Frequency')\n",
    "plt.ylabel('Movie Studios')\n",
    "plt.title('Top 15 of Movie Studios')\n",
    "plt.show()"
   ]
  },
  {
   "cell_type": "code",
   "execution_count": 49,
   "metadata": {
    "tags": []
   },
   "outputs": [
    {
     "data": {
      "text/html": [
       "<div>\n",
       "<style scoped>\n",
       "    .dataframe tbody tr th:only-of-type {\n",
       "        vertical-align: middle;\n",
       "    }\n",
       "\n",
       "    .dataframe tbody tr th {\n",
       "        vertical-align: top;\n",
       "    }\n",
       "\n",
       "    .dataframe thead th {\n",
       "        text-align: right;\n",
       "    }\n",
       "</style>\n",
       "<table border=\"1\" class=\"dataframe\">\n",
       "  <thead>\n",
       "    <tr style=\"text-align: right;\">\n",
       "      <th></th>\n",
       "      <th>title</th>\n",
       "      <th>studio</th>\n",
       "      <th>domestic_gross</th>\n",
       "      <th>foreign_gross</th>\n",
       "      <th>year</th>\n",
       "    </tr>\n",
       "  </thead>\n",
       "  <tbody>\n",
       "    <tr>\n",
       "      <th>0</th>\n",
       "      <td>Toy Story 3</td>\n",
       "      <td>BV</td>\n",
       "      <td>415000000.0</td>\n",
       "      <td>652000000.0</td>\n",
       "      <td>2010</td>\n",
       "    </tr>\n",
       "    <tr>\n",
       "      <th>1</th>\n",
       "      <td>Alice in Wonderland (2010)</td>\n",
       "      <td>BV</td>\n",
       "      <td>334200000.0</td>\n",
       "      <td>691300000.0</td>\n",
       "      <td>2010</td>\n",
       "    </tr>\n",
       "    <tr>\n",
       "      <th>2</th>\n",
       "      <td>Harry Potter and the Deathly Hallows Part 1</td>\n",
       "      <td>WB</td>\n",
       "      <td>296000000.0</td>\n",
       "      <td>664300000.0</td>\n",
       "      <td>2010</td>\n",
       "    </tr>\n",
       "    <tr>\n",
       "      <th>3</th>\n",
       "      <td>Inception</td>\n",
       "      <td>WB</td>\n",
       "      <td>292600000.0</td>\n",
       "      <td>535700000.0</td>\n",
       "      <td>2010</td>\n",
       "    </tr>\n",
       "    <tr>\n",
       "      <th>4</th>\n",
       "      <td>Shrek Forever After</td>\n",
       "      <td>P/DW</td>\n",
       "      <td>238700000.0</td>\n",
       "      <td>513900000.0</td>\n",
       "      <td>2010</td>\n",
       "    </tr>\n",
       "  </tbody>\n",
       "</table>\n",
       "</div>"
      ],
      "text/plain": [
       "                                         title studio  domestic_gross  \\\n",
       "0                                  Toy Story 3     BV     415000000.0   \n",
       "1                   Alice in Wonderland (2010)     BV     334200000.0   \n",
       "2  Harry Potter and the Deathly Hallows Part 1     WB     296000000.0   \n",
       "3                                    Inception     WB     292600000.0   \n",
       "4                          Shrek Forever After   P/DW     238700000.0   \n",
       "\n",
       "   foreign_gross  year  \n",
       "0    652000000.0  2010  \n",
       "1    691300000.0  2010  \n",
       "2    664300000.0  2010  \n",
       "3    535700000.0  2010  \n",
       "4    513900000.0  2010  "
      ]
     },
     "execution_count": 49,
     "metadata": {},
     "output_type": "execute_result"
    }
   ],
   "source": [
    "df_gross.head()"
   ]
  },
  {
   "cell_type": "markdown",
   "metadata": {
    "tags": []
   },
   "source": [
    "### 4.7 Highest Grossing Movies"
   ]
  },
  {
   "cell_type": "code",
   "execution_count": 50,
   "metadata": {
    "tags": []
   },
   "outputs": [
    {
     "data": {
      "text/html": [
       "<div>\n",
       "<style scoped>\n",
       "    .dataframe tbody tr th:only-of-type {\n",
       "        vertical-align: middle;\n",
       "    }\n",
       "\n",
       "    .dataframe tbody tr th {\n",
       "        vertical-align: top;\n",
       "    }\n",
       "\n",
       "    .dataframe thead th {\n",
       "        text-align: right;\n",
       "    }\n",
       "</style>\n",
       "<table border=\"1\" class=\"dataframe\">\n",
       "  <thead>\n",
       "    <tr style=\"text-align: right;\">\n",
       "      <th></th>\n",
       "      <th>title</th>\n",
       "      <th>studio</th>\n",
       "      <th>domestic_gross</th>\n",
       "      <th>foreign_gross</th>\n",
       "      <th>year</th>\n",
       "    </tr>\n",
       "  </thead>\n",
       "  <tbody>\n",
       "    <tr>\n",
       "      <th>1018</th>\n",
       "      <td>Apartment 143</td>\n",
       "      <td>Magn.</td>\n",
       "      <td>400.0</td>\n",
       "      <td>426000.0</td>\n",
       "      <td>2012</td>\n",
       "    </tr>\n",
       "    <tr>\n",
       "      <th>2920</th>\n",
       "      <td>Amityville: The Awakening</td>\n",
       "      <td>W/Dim.</td>\n",
       "      <td>700.0</td>\n",
       "      <td>7700000.0</td>\n",
       "      <td>2017</td>\n",
       "    </tr>\n",
       "    <tr>\n",
       "      <th>642</th>\n",
       "      <td>Illegal (2011)</td>\n",
       "      <td>FM</td>\n",
       "      <td>700.0</td>\n",
       "      <td>289000.0</td>\n",
       "      <td>2011</td>\n",
       "    </tr>\n",
       "    <tr>\n",
       "      <th>292</th>\n",
       "      <td>Perrier's Bounty</td>\n",
       "      <td>IFC</td>\n",
       "      <td>800.0</td>\n",
       "      <td>167000.0</td>\n",
       "      <td>2010</td>\n",
       "    </tr>\n",
       "    <tr>\n",
       "      <th>1738</th>\n",
       "      <td>Jackpot</td>\n",
       "      <td>DR</td>\n",
       "      <td>800.0</td>\n",
       "      <td>1100000.0</td>\n",
       "      <td>2014</td>\n",
       "    </tr>\n",
       "    <tr>\n",
       "      <th>...</th>\n",
       "      <td>...</td>\n",
       "      <td>...</td>\n",
       "      <td>...</td>\n",
       "      <td>...</td>\n",
       "      <td>...</td>\n",
       "    </tr>\n",
       "    <tr>\n",
       "      <th>727</th>\n",
       "      <td>Marvel's The Avengers</td>\n",
       "      <td>BV</td>\n",
       "      <td>623400000.0</td>\n",
       "      <td>895500000.0</td>\n",
       "      <td>2012</td>\n",
       "    </tr>\n",
       "    <tr>\n",
       "      <th>1873</th>\n",
       "      <td>Jurassic World</td>\n",
       "      <td>Uni.</td>\n",
       "      <td>652300000.0</td>\n",
       "      <td>1019.4</td>\n",
       "      <td>2015</td>\n",
       "    </tr>\n",
       "    <tr>\n",
       "      <th>3079</th>\n",
       "      <td>Avengers: Infinity War</td>\n",
       "      <td>BV</td>\n",
       "      <td>678800000.0</td>\n",
       "      <td>1369.5</td>\n",
       "      <td>2018</td>\n",
       "    </tr>\n",
       "    <tr>\n",
       "      <th>3080</th>\n",
       "      <td>Black Panther</td>\n",
       "      <td>BV</td>\n",
       "      <td>700100000.0</td>\n",
       "      <td>646900000.0</td>\n",
       "      <td>2018</td>\n",
       "    </tr>\n",
       "    <tr>\n",
       "      <th>1872</th>\n",
       "      <td>Star Wars: The Force Awakens</td>\n",
       "      <td>BV</td>\n",
       "      <td>936700000.0</td>\n",
       "      <td>1131.6</td>\n",
       "      <td>2015</td>\n",
       "    </tr>\n",
       "  </tbody>\n",
       "</table>\n",
       "<p>2007 rows × 5 columns</p>\n",
       "</div>"
      ],
      "text/plain": [
       "                             title  studio  domestic_gross  foreign_gross  \\\n",
       "1018                 Apartment 143   Magn.           400.0       426000.0   \n",
       "2920     Amityville: The Awakening  W/Dim.           700.0      7700000.0   \n",
       "642                 Illegal (2011)      FM           700.0       289000.0   \n",
       "292               Perrier's Bounty     IFC           800.0       167000.0   \n",
       "1738                       Jackpot      DR           800.0      1100000.0   \n",
       "...                            ...     ...             ...            ...   \n",
       "727          Marvel's The Avengers      BV     623400000.0    895500000.0   \n",
       "1873                Jurassic World    Uni.     652300000.0         1019.4   \n",
       "3079        Avengers: Infinity War      BV     678800000.0         1369.5   \n",
       "3080                 Black Panther      BV     700100000.0    646900000.0   \n",
       "1872  Star Wars: The Force Awakens      BV     936700000.0         1131.6   \n",
       "\n",
       "      year  \n",
       "1018  2012  \n",
       "2920  2017  \n",
       "642   2011  \n",
       "292   2010  \n",
       "1738  2014  \n",
       "...    ...  \n",
       "727   2012  \n",
       "1873  2015  \n",
       "3079  2018  \n",
       "3080  2018  \n",
       "1872  2015  \n",
       "\n",
       "[2007 rows x 5 columns]"
      ]
     },
     "execution_count": 50,
     "metadata": {},
     "output_type": "execute_result"
    }
   ],
   "source": [
    "## Domestic Gross, IN asceding\n",
    "movies_domestic = df_gross.sort_values(by = 'domestic_gross', ascending = True)\n",
    "movies_domestic"
   ]
  },
  {
   "cell_type": "code",
   "execution_count": 51,
   "metadata": {
    "tags": []
   },
   "outputs": [
    {
     "data": {
      "text/html": [
       "<div>\n",
       "<style scoped>\n",
       "    .dataframe tbody tr th:only-of-type {\n",
       "        vertical-align: middle;\n",
       "    }\n",
       "\n",
       "    .dataframe tbody tr th {\n",
       "        vertical-align: top;\n",
       "    }\n",
       "\n",
       "    .dataframe thead th {\n",
       "        text-align: right;\n",
       "    }\n",
       "</style>\n",
       "<table border=\"1\" class=\"dataframe\">\n",
       "  <thead>\n",
       "    <tr style=\"text-align: right;\">\n",
       "      <th></th>\n",
       "      <th>title</th>\n",
       "      <th>studio</th>\n",
       "      <th>domestic_gross</th>\n",
       "      <th>foreign_gross</th>\n",
       "      <th>year</th>\n",
       "    </tr>\n",
       "  </thead>\n",
       "  <tbody>\n",
       "    <tr>\n",
       "      <th>1872</th>\n",
       "      <td>Star Wars: The Force Awakens</td>\n",
       "      <td>BV</td>\n",
       "      <td>936700000.0</td>\n",
       "      <td>1131.6</td>\n",
       "      <td>2015</td>\n",
       "    </tr>\n",
       "    <tr>\n",
       "      <th>3080</th>\n",
       "      <td>Black Panther</td>\n",
       "      <td>BV</td>\n",
       "      <td>700100000.0</td>\n",
       "      <td>646900000.0</td>\n",
       "      <td>2018</td>\n",
       "    </tr>\n",
       "    <tr>\n",
       "      <th>3079</th>\n",
       "      <td>Avengers: Infinity War</td>\n",
       "      <td>BV</td>\n",
       "      <td>678800000.0</td>\n",
       "      <td>1369.5</td>\n",
       "      <td>2018</td>\n",
       "    </tr>\n",
       "    <tr>\n",
       "      <th>1873</th>\n",
       "      <td>Jurassic World</td>\n",
       "      <td>Uni.</td>\n",
       "      <td>652300000.0</td>\n",
       "      <td>1019.4</td>\n",
       "      <td>2015</td>\n",
       "    </tr>\n",
       "    <tr>\n",
       "      <th>727</th>\n",
       "      <td>Marvel's The Avengers</td>\n",
       "      <td>BV</td>\n",
       "      <td>623400000.0</td>\n",
       "      <td>895500000.0</td>\n",
       "      <td>2012</td>\n",
       "    </tr>\n",
       "    <tr>\n",
       "      <th>...</th>\n",
       "      <td>...</td>\n",
       "      <td>...</td>\n",
       "      <td>...</td>\n",
       "      <td>...</td>\n",
       "      <td>...</td>\n",
       "    </tr>\n",
       "    <tr>\n",
       "      <th>292</th>\n",
       "      <td>Perrier's Bounty</td>\n",
       "      <td>IFC</td>\n",
       "      <td>800.0</td>\n",
       "      <td>167000.0</td>\n",
       "      <td>2010</td>\n",
       "    </tr>\n",
       "    <tr>\n",
       "      <th>1738</th>\n",
       "      <td>Jackpot</td>\n",
       "      <td>DR</td>\n",
       "      <td>800.0</td>\n",
       "      <td>1100000.0</td>\n",
       "      <td>2014</td>\n",
       "    </tr>\n",
       "    <tr>\n",
       "      <th>2920</th>\n",
       "      <td>Amityville: The Awakening</td>\n",
       "      <td>W/Dim.</td>\n",
       "      <td>700.0</td>\n",
       "      <td>7700000.0</td>\n",
       "      <td>2017</td>\n",
       "    </tr>\n",
       "    <tr>\n",
       "      <th>642</th>\n",
       "      <td>Illegal (2011)</td>\n",
       "      <td>FM</td>\n",
       "      <td>700.0</td>\n",
       "      <td>289000.0</td>\n",
       "      <td>2011</td>\n",
       "    </tr>\n",
       "    <tr>\n",
       "      <th>1018</th>\n",
       "      <td>Apartment 143</td>\n",
       "      <td>Magn.</td>\n",
       "      <td>400.0</td>\n",
       "      <td>426000.0</td>\n",
       "      <td>2012</td>\n",
       "    </tr>\n",
       "  </tbody>\n",
       "</table>\n",
       "<p>2007 rows × 5 columns</p>\n",
       "</div>"
      ],
      "text/plain": [
       "                             title  studio  domestic_gross  foreign_gross  \\\n",
       "1872  Star Wars: The Force Awakens      BV     936700000.0         1131.6   \n",
       "3080                 Black Panther      BV     700100000.0    646900000.0   \n",
       "3079        Avengers: Infinity War      BV     678800000.0         1369.5   \n",
       "1873                Jurassic World    Uni.     652300000.0         1019.4   \n",
       "727          Marvel's The Avengers      BV     623400000.0    895500000.0   \n",
       "...                            ...     ...             ...            ...   \n",
       "292               Perrier's Bounty     IFC           800.0       167000.0   \n",
       "1738                       Jackpot      DR           800.0      1100000.0   \n",
       "2920     Amityville: The Awakening  W/Dim.           700.0      7700000.0   \n",
       "642                 Illegal (2011)      FM           700.0       289000.0   \n",
       "1018                 Apartment 143   Magn.           400.0       426000.0   \n",
       "\n",
       "      year  \n",
       "1872  2015  \n",
       "3080  2018  \n",
       "3079  2018  \n",
       "1873  2015  \n",
       "727   2012  \n",
       "...    ...  \n",
       "292   2010  \n",
       "1738  2014  \n",
       "2920  2017  \n",
       "642   2011  \n",
       "1018  2012  \n",
       "\n",
       "[2007 rows x 5 columns]"
      ]
     },
     "execution_count": 51,
     "metadata": {},
     "output_type": "execute_result"
    }
   ],
   "source": [
    "## Domestic Gross, in descending\n",
    "movies_domestic = df_gross.sort_values(by = 'domestic_gross', ascending = False)\n",
    "movies_domestic"
   ]
  },
  {
   "cell_type": "code",
   "execution_count": 52,
   "metadata": {
    "tags": []
   },
   "outputs": [
    {
     "data": {
      "text/html": [
       "<div>\n",
       "<style scoped>\n",
       "    .dataframe tbody tr th:only-of-type {\n",
       "        vertical-align: middle;\n",
       "    }\n",
       "\n",
       "    .dataframe tbody tr th {\n",
       "        vertical-align: top;\n",
       "    }\n",
       "\n",
       "    .dataframe thead th {\n",
       "        text-align: right;\n",
       "    }\n",
       "</style>\n",
       "<table border=\"1\" class=\"dataframe\">\n",
       "  <thead>\n",
       "    <tr style=\"text-align: right;\">\n",
       "      <th></th>\n",
       "      <th>title</th>\n",
       "      <th>studio</th>\n",
       "      <th>domestic_gross</th>\n",
       "      <th>foreign_gross</th>\n",
       "      <th>year</th>\n",
       "    </tr>\n",
       "  </thead>\n",
       "  <tbody>\n",
       "    <tr>\n",
       "      <th>328</th>\n",
       "      <td>Harry Potter and the Deathly Hallows Part 2</td>\n",
       "      <td>WB</td>\n",
       "      <td>381000000.0</td>\n",
       "      <td>960500000.0</td>\n",
       "      <td>2011</td>\n",
       "    </tr>\n",
       "    <tr>\n",
       "      <th>1875</th>\n",
       "      <td>Avengers: Age of Ultron</td>\n",
       "      <td>BV</td>\n",
       "      <td>459000000.0</td>\n",
       "      <td>946400000.0</td>\n",
       "      <td>2015</td>\n",
       "    </tr>\n",
       "    <tr>\n",
       "      <th>727</th>\n",
       "      <td>Marvel's The Avengers</td>\n",
       "      <td>BV</td>\n",
       "      <td>623400000.0</td>\n",
       "      <td>895500000.0</td>\n",
       "      <td>2012</td>\n",
       "    </tr>\n",
       "    <tr>\n",
       "      <th>3081</th>\n",
       "      <td>Jurassic World: Fallen Kingdom</td>\n",
       "      <td>Uni.</td>\n",
       "      <td>417700000.0</td>\n",
       "      <td>891800000.0</td>\n",
       "      <td>2018</td>\n",
       "    </tr>\n",
       "    <tr>\n",
       "      <th>1127</th>\n",
       "      <td>Frozen</td>\n",
       "      <td>BV</td>\n",
       "      <td>400700000.0</td>\n",
       "      <td>875700000.0</td>\n",
       "      <td>2013</td>\n",
       "    </tr>\n",
       "    <tr>\n",
       "      <th>...</th>\n",
       "      <td>...</td>\n",
       "      <td>...</td>\n",
       "      <td>...</td>\n",
       "      <td>...</td>\n",
       "      <td>...</td>\n",
       "    </tr>\n",
       "    <tr>\n",
       "      <th>1872</th>\n",
       "      <td>Star Wars: The Force Awakens</td>\n",
       "      <td>BV</td>\n",
       "      <td>936700000.0</td>\n",
       "      <td>1131.6</td>\n",
       "      <td>2015</td>\n",
       "    </tr>\n",
       "    <tr>\n",
       "      <th>1873</th>\n",
       "      <td>Jurassic World</td>\n",
       "      <td>Uni.</td>\n",
       "      <td>652300000.0</td>\n",
       "      <td>1019.4</td>\n",
       "      <td>2015</td>\n",
       "    </tr>\n",
       "    <tr>\n",
       "      <th>2760</th>\n",
       "      <td>The Fate of the Furious</td>\n",
       "      <td>Uni.</td>\n",
       "      <td>226000000.0</td>\n",
       "      <td>1010.0</td>\n",
       "      <td>2017</td>\n",
       "    </tr>\n",
       "    <tr>\n",
       "      <th>721</th>\n",
       "      <td>To Die Like a Man</td>\n",
       "      <td>Strand</td>\n",
       "      <td>4000.0</td>\n",
       "      <td>900.0</td>\n",
       "      <td>2011</td>\n",
       "    </tr>\n",
       "    <tr>\n",
       "      <th>921</th>\n",
       "      <td>Chasing Mavericks</td>\n",
       "      <td>Fox</td>\n",
       "      <td>6000000.0</td>\n",
       "      <td>600.0</td>\n",
       "      <td>2012</td>\n",
       "    </tr>\n",
       "  </tbody>\n",
       "</table>\n",
       "<p>2007 rows × 5 columns</p>\n",
       "</div>"
      ],
      "text/plain": [
       "                                            title  studio  domestic_gross  \\\n",
       "328   Harry Potter and the Deathly Hallows Part 2      WB     381000000.0   \n",
       "1875                      Avengers: Age of Ultron      BV     459000000.0   \n",
       "727                         Marvel's The Avengers      BV     623400000.0   \n",
       "3081               Jurassic World: Fallen Kingdom    Uni.     417700000.0   \n",
       "1127                                       Frozen      BV     400700000.0   \n",
       "...                                           ...     ...             ...   \n",
       "1872                 Star Wars: The Force Awakens      BV     936700000.0   \n",
       "1873                               Jurassic World    Uni.     652300000.0   \n",
       "2760                      The Fate of the Furious    Uni.     226000000.0   \n",
       "721                             To Die Like a Man  Strand          4000.0   \n",
       "921                             Chasing Mavericks     Fox       6000000.0   \n",
       "\n",
       "      foreign_gross  year  \n",
       "328     960500000.0  2011  \n",
       "1875    946400000.0  2015  \n",
       "727     895500000.0  2012  \n",
       "3081    891800000.0  2018  \n",
       "1127    875700000.0  2013  \n",
       "...             ...   ...  \n",
       "1872         1131.6  2015  \n",
       "1873         1019.4  2015  \n",
       "2760         1010.0  2017  \n",
       "721           900.0  2011  \n",
       "921           600.0  2012  \n",
       "\n",
       "[2007 rows x 5 columns]"
      ]
     },
     "execution_count": 52,
     "metadata": {},
     "output_type": "execute_result"
    }
   ],
   "source": [
    "## Foreign Gross, Asceding\n",
    "\n",
    "movies_foreign = df_gross.sort_values(by = 'foreign_gross', ascending = False)\n",
    "movies_foreign"
   ]
  },
  {
   "cell_type": "code",
   "execution_count": 53,
   "metadata": {
    "tags": []
   },
   "outputs": [
    {
     "data": {
      "text/html": [
       "<div>\n",
       "<style scoped>\n",
       "    .dataframe tbody tr th:only-of-type {\n",
       "        vertical-align: middle;\n",
       "    }\n",
       "\n",
       "    .dataframe tbody tr th {\n",
       "        vertical-align: top;\n",
       "    }\n",
       "\n",
       "    .dataframe thead th {\n",
       "        text-align: right;\n",
       "    }\n",
       "</style>\n",
       "<table border=\"1\" class=\"dataframe\">\n",
       "  <thead>\n",
       "    <tr style=\"text-align: right;\">\n",
       "      <th></th>\n",
       "      <th>title</th>\n",
       "      <th>studio</th>\n",
       "      <th>domestic_gross</th>\n",
       "      <th>foreign_gross</th>\n",
       "      <th>year</th>\n",
       "    </tr>\n",
       "  </thead>\n",
       "  <tbody>\n",
       "    <tr>\n",
       "      <th>328</th>\n",
       "      <td>Harry Potter and the Deathly Hallows Part 2</td>\n",
       "      <td>WB</td>\n",
       "      <td>381000000.0</td>\n",
       "      <td>960500000.0</td>\n",
       "      <td>2011</td>\n",
       "    </tr>\n",
       "    <tr>\n",
       "      <th>1875</th>\n",
       "      <td>Avengers: Age of Ultron</td>\n",
       "      <td>BV</td>\n",
       "      <td>459000000.0</td>\n",
       "      <td>946400000.0</td>\n",
       "      <td>2015</td>\n",
       "    </tr>\n",
       "    <tr>\n",
       "      <th>727</th>\n",
       "      <td>Marvel's The Avengers</td>\n",
       "      <td>BV</td>\n",
       "      <td>623400000.0</td>\n",
       "      <td>895500000.0</td>\n",
       "      <td>2012</td>\n",
       "    </tr>\n",
       "    <tr>\n",
       "      <th>3081</th>\n",
       "      <td>Jurassic World: Fallen Kingdom</td>\n",
       "      <td>Uni.</td>\n",
       "      <td>417700000.0</td>\n",
       "      <td>891800000.0</td>\n",
       "      <td>2018</td>\n",
       "    </tr>\n",
       "    <tr>\n",
       "      <th>1127</th>\n",
       "      <td>Frozen</td>\n",
       "      <td>BV</td>\n",
       "      <td>400700000.0</td>\n",
       "      <td>875700000.0</td>\n",
       "      <td>2013</td>\n",
       "    </tr>\n",
       "    <tr>\n",
       "      <th>2764</th>\n",
       "      <td>Wolf Warrior 2</td>\n",
       "      <td>HC</td>\n",
       "      <td>2700000.0</td>\n",
       "      <td>867600000.0</td>\n",
       "      <td>2017</td>\n",
       "    </tr>\n",
       "    <tr>\n",
       "      <th>1477</th>\n",
       "      <td>Transformers: Age of Extinction</td>\n",
       "      <td>Par.</td>\n",
       "      <td>245400000.0</td>\n",
       "      <td>858600000.0</td>\n",
       "      <td>2014</td>\n",
       "    </tr>\n",
       "    <tr>\n",
       "      <th>1876</th>\n",
       "      <td>Minions</td>\n",
       "      <td>Uni.</td>\n",
       "      <td>336000000.0</td>\n",
       "      <td>823400000.0</td>\n",
       "      <td>2015</td>\n",
       "    </tr>\n",
       "    <tr>\n",
       "      <th>3083</th>\n",
       "      <td>Aquaman</td>\n",
       "      <td>WB</td>\n",
       "      <td>335100000.0</td>\n",
       "      <td>812700000.0</td>\n",
       "      <td>2018</td>\n",
       "    </tr>\n",
       "    <tr>\n",
       "      <th>1128</th>\n",
       "      <td>Iron Man 3</td>\n",
       "      <td>BV</td>\n",
       "      <td>409000000.0</td>\n",
       "      <td>805800000.0</td>\n",
       "      <td>2013</td>\n",
       "    </tr>\n",
       "    <tr>\n",
       "      <th>330</th>\n",
       "      <td>Pirates of the Caribbean: On Stranger Tides</td>\n",
       "      <td>BV</td>\n",
       "      <td>241100000.0</td>\n",
       "      <td>804600000.0</td>\n",
       "      <td>2011</td>\n",
       "    </tr>\n",
       "    <tr>\n",
       "      <th>728</th>\n",
       "      <td>Skyfall</td>\n",
       "      <td>Sony</td>\n",
       "      <td>304400000.0</td>\n",
       "      <td>804200000.0</td>\n",
       "      <td>2012</td>\n",
       "    </tr>\n",
       "    <tr>\n",
       "      <th>329</th>\n",
       "      <td>Transformers: Dark of the Moon</td>\n",
       "      <td>P/DW</td>\n",
       "      <td>352400000.0</td>\n",
       "      <td>771400000.0</td>\n",
       "      <td>2011</td>\n",
       "    </tr>\n",
       "    <tr>\n",
       "      <th>2761</th>\n",
       "      <td>Despicable Me 3</td>\n",
       "      <td>Uni.</td>\n",
       "      <td>264600000.0</td>\n",
       "      <td>770200000.0</td>\n",
       "      <td>2017</td>\n",
       "    </tr>\n",
       "    <tr>\n",
       "      <th>2759</th>\n",
       "      <td>Beauty and the Beast (2017)</td>\n",
       "      <td>BV</td>\n",
       "      <td>504000000.0</td>\n",
       "      <td>759500000.0</td>\n",
       "      <td>2017</td>\n",
       "    </tr>\n",
       "    <tr>\n",
       "      <th>2322</th>\n",
       "      <td>Captain America: Civil War</td>\n",
       "      <td>BV</td>\n",
       "      <td>408100000.0</td>\n",
       "      <td>745200000.0</td>\n",
       "      <td>2016</td>\n",
       "    </tr>\n",
       "    <tr>\n",
       "      <th>730</th>\n",
       "      <td>The Hobbit: An Unexpected Journey</td>\n",
       "      <td>WB (NL)</td>\n",
       "      <td>303000000.0</td>\n",
       "      <td>718100000.0</td>\n",
       "      <td>2012</td>\n",
       "    </tr>\n",
       "    <tr>\n",
       "      <th>731</th>\n",
       "      <td>Ice Age: Continental Drift</td>\n",
       "      <td>Fox</td>\n",
       "      <td>161300000.0</td>\n",
       "      <td>715900000.0</td>\n",
       "      <td>2012</td>\n",
       "    </tr>\n",
       "    <tr>\n",
       "      <th>2758</th>\n",
       "      <td>Star Wars: The Last Jedi</td>\n",
       "      <td>BV</td>\n",
       "      <td>620200000.0</td>\n",
       "      <td>712400000.0</td>\n",
       "      <td>2017</td>\n",
       "    </tr>\n",
       "    <tr>\n",
       "      <th>1478</th>\n",
       "      <td>The Hobbit: The Battle of the Five Armies</td>\n",
       "      <td>WB (NL)</td>\n",
       "      <td>255100000.0</td>\n",
       "      <td>700900000.0</td>\n",
       "      <td>2014</td>\n",
       "    </tr>\n",
       "  </tbody>\n",
       "</table>\n",
       "</div>"
      ],
      "text/plain": [
       "                                            title   studio  domestic_gross  \\\n",
       "328   Harry Potter and the Deathly Hallows Part 2       WB     381000000.0   \n",
       "1875                      Avengers: Age of Ultron       BV     459000000.0   \n",
       "727                         Marvel's The Avengers       BV     623400000.0   \n",
       "3081               Jurassic World: Fallen Kingdom     Uni.     417700000.0   \n",
       "1127                                       Frozen       BV     400700000.0   \n",
       "2764                               Wolf Warrior 2       HC       2700000.0   \n",
       "1477              Transformers: Age of Extinction     Par.     245400000.0   \n",
       "1876                                      Minions     Uni.     336000000.0   \n",
       "3083                                      Aquaman       WB     335100000.0   \n",
       "1128                                   Iron Man 3       BV     409000000.0   \n",
       "330   Pirates of the Caribbean: On Stranger Tides       BV     241100000.0   \n",
       "728                                       Skyfall     Sony     304400000.0   \n",
       "329                Transformers: Dark of the Moon     P/DW     352400000.0   \n",
       "2761                              Despicable Me 3     Uni.     264600000.0   \n",
       "2759                  Beauty and the Beast (2017)       BV     504000000.0   \n",
       "2322                   Captain America: Civil War       BV     408100000.0   \n",
       "730             The Hobbit: An Unexpected Journey  WB (NL)     303000000.0   \n",
       "731                    Ice Age: Continental Drift      Fox     161300000.0   \n",
       "2758                     Star Wars: The Last Jedi       BV     620200000.0   \n",
       "1478    The Hobbit: The Battle of the Five Armies  WB (NL)     255100000.0   \n",
       "\n",
       "      foreign_gross  year  \n",
       "328     960500000.0  2011  \n",
       "1875    946400000.0  2015  \n",
       "727     895500000.0  2012  \n",
       "3081    891800000.0  2018  \n",
       "1127    875700000.0  2013  \n",
       "2764    867600000.0  2017  \n",
       "1477    858600000.0  2014  \n",
       "1876    823400000.0  2015  \n",
       "3083    812700000.0  2018  \n",
       "1128    805800000.0  2013  \n",
       "330     804600000.0  2011  \n",
       "728     804200000.0  2012  \n",
       "329     771400000.0  2011  \n",
       "2761    770200000.0  2017  \n",
       "2759    759500000.0  2017  \n",
       "2322    745200000.0  2016  \n",
       "730     718100000.0  2012  \n",
       "731     715900000.0  2012  \n",
       "2758    712400000.0  2017  \n",
       "1478    700900000.0  2014  "
      ]
     },
     "execution_count": 53,
     "metadata": {},
     "output_type": "execute_result"
    }
   ],
   "source": [
    "## Foreign Gross, Asceding\n",
    "\n",
    "top_movies_foreign = df_gross.sort_values(by = 'foreign_gross', ascending = False)\n",
    "top_10_movies = top_movies_foreign.head(20)\n",
    "top_10_movies"
   ]
  },
  {
   "cell_type": "code",
   "execution_count": 54,
   "metadata": {
    "tags": []
   },
   "outputs": [
    {
     "data": {
      "text/plain": [
       "pandas.core.frame.DataFrame"
      ]
     },
     "execution_count": 54,
     "metadata": {},
     "output_type": "execute_result"
    }
   ],
   "source": [
    "type(df_titles_reviews)"
   ]
  },
  {
   "cell_type": "code",
   "execution_count": null,
   "metadata": {},
   "outputs": [],
   "source": []
  },
  {
   "cell_type": "markdown",
   "metadata": {
    "tags": []
   },
   "source": [
    "## 5. Observations and Recomendations"
   ]
  },
  {
   "cell_type": "raw",
   "metadata": {},
   "source": [
    "Based on the analysis above, here is a summary of the findings:\n",
    "1.  Most popular genre of movies included Drama, Documentaries, comedy, Thriller and horror movies\n",
    "2. Most profitable movies genres based on foreign gross income we action and drama \n",
    "3. National disasters and pandemics can affect the revenues a movie can make upon launch\n",
    "\n",
    "Based on the above observations, The following are our recommendations:\n",
    "1. To build on the popularity on Microsoft's movie studio, Microsoft should initially produce Drama and Documentaries as the then to be popular\n",
    "2. Action and Drama themed movies have the greatest potential of making profit for the soon to be established Microsoft Studio.\n",
    "3. An on demand-movie streaming service that will allow for sharing of exclusive content to build on the popularity od the movie studio.\n",
    "4. The average length of a movie is 94 minutes.\n"
   ]
  },
  {
   "cell_type": "code",
   "execution_count": 55,
   "metadata": {
    "tags": []
   },
   "outputs": [
    {
     "name": "stdout",
     "output_type": "stream",
     "text": [
      "<class 'pandas.core.frame.DataFrame'>\n",
      "Int64Index: 20 entries, 328 to 1478\n",
      "Data columns (total 5 columns):\n",
      " #   Column          Non-Null Count  Dtype  \n",
      "---  ------          --------------  -----  \n",
      " 0   primary_title   20 non-null     object \n",
      " 1   studio          20 non-null     object \n",
      " 2   domestic_gross  20 non-null     float64\n",
      " 3   foreign_gross   20 non-null     float64\n",
      " 4   year            20 non-null     int64  \n",
      "dtypes: float64(2), int64(1), object(2)\n",
      "memory usage: 960.0+ bytes\n"
     ]
    },
    {
     "name": "stderr",
     "output_type": "stream",
     "text": [
      "C:\\Users\\USER\\AppData\\Local\\Temp\\ipykernel_8128\\302423710.py:3: SettingWithCopyWarning: \n",
      "A value is trying to be set on a copy of a slice from a DataFrame\n",
      "\n",
      "See the caveats in the documentation: https://pandas.pydata.org/pandas-docs/stable/user_guide/indexing.html#returning-a-view-versus-a-copy\n",
      "  top_10_movies.rename(columns={'title': 'primary_title'}, inplace=True)\n"
     ]
    }
   ],
   "source": [
    "#Remaning the title column in the top 10 movies to primary_title\n",
    "\n",
    "top_10_movies.rename(columns={'title': 'primary_title'}, inplace=True)\n",
    "top_10_movies.info()\n"
   ]
  },
  {
   "cell_type": "code",
   "execution_count": 56,
   "metadata": {
    "tags": []
   },
   "outputs": [
    {
     "data": {
      "text/html": [
       "<div>\n",
       "<style scoped>\n",
       "    .dataframe tbody tr th:only-of-type {\n",
       "        vertical-align: middle;\n",
       "    }\n",
       "\n",
       "    .dataframe tbody tr th {\n",
       "        vertical-align: top;\n",
       "    }\n",
       "\n",
       "    .dataframe thead th {\n",
       "        text-align: right;\n",
       "    }\n",
       "</style>\n",
       "<table border=\"1\" class=\"dataframe\">\n",
       "  <thead>\n",
       "    <tr style=\"text-align: right;\">\n",
       "      <th></th>\n",
       "      <th>tconst</th>\n",
       "      <th>primary_title</th>\n",
       "      <th>start_year</th>\n",
       "      <th>runtime_minutes</th>\n",
       "      <th>genres</th>\n",
       "      <th>averagerating</th>\n",
       "      <th>numvotes</th>\n",
       "      <th>weighted_rating</th>\n",
       "    </tr>\n",
       "  </thead>\n",
       "  <tbody>\n",
       "    <tr>\n",
       "      <th>0</th>\n",
       "      <td>tt0063540</td>\n",
       "      <td>Sunghursh</td>\n",
       "      <td>2013</td>\n",
       "      <td>175.00000</td>\n",
       "      <td>[Action, Crime, Drama]</td>\n",
       "      <td>7.0</td>\n",
       "      <td>77</td>\n",
       "      <td>6.347673</td>\n",
       "    </tr>\n",
       "    <tr>\n",
       "      <th>1</th>\n",
       "      <td>tt0066787</td>\n",
       "      <td>One Day Before the Rainy Season</td>\n",
       "      <td>2019</td>\n",
       "      <td>114.00000</td>\n",
       "      <td>[Biography, Drama]</td>\n",
       "      <td>7.2</td>\n",
       "      <td>43</td>\n",
       "      <td>6.343211</td>\n",
       "    </tr>\n",
       "    <tr>\n",
       "      <th>2</th>\n",
       "      <td>tt0069049</td>\n",
       "      <td>The Other Side of the Wind</td>\n",
       "      <td>2018</td>\n",
       "      <td>122.00000</td>\n",
       "      <td>[Drama]</td>\n",
       "      <td>6.9</td>\n",
       "      <td>4517</td>\n",
       "      <td>6.672887</td>\n",
       "    </tr>\n",
       "    <tr>\n",
       "      <th>3</th>\n",
       "      <td>tt0069204</td>\n",
       "      <td>Sabse Bada Sukh</td>\n",
       "      <td>2018</td>\n",
       "      <td>94.65404</td>\n",
       "      <td>[Comedy, Drama]</td>\n",
       "      <td>6.1</td>\n",
       "      <td>13</td>\n",
       "      <td>6.329934</td>\n",
       "    </tr>\n",
       "    <tr>\n",
       "      <th>4</th>\n",
       "      <td>tt0100275</td>\n",
       "      <td>The Wandering Soap Opera</td>\n",
       "      <td>2017</td>\n",
       "      <td>80.00000</td>\n",
       "      <td>[Comedy, Drama, Fantasy]</td>\n",
       "      <td>6.5</td>\n",
       "      <td>119</td>\n",
       "      <td>6.337381</td>\n",
       "    </tr>\n",
       "  </tbody>\n",
       "</table>\n",
       "</div>"
      ],
      "text/plain": [
       "      tconst                    primary_title  start_year  runtime_minutes  \\\n",
       "0  tt0063540                        Sunghursh        2013        175.00000   \n",
       "1  tt0066787  One Day Before the Rainy Season        2019        114.00000   \n",
       "2  tt0069049       The Other Side of the Wind        2018        122.00000   \n",
       "3  tt0069204                  Sabse Bada Sukh        2018         94.65404   \n",
       "4  tt0100275         The Wandering Soap Opera        2017         80.00000   \n",
       "\n",
       "                     genres  averagerating  numvotes  weighted_rating  \n",
       "0    [Action, Crime, Drama]            7.0        77         6.347673  \n",
       "1        [Biography, Drama]            7.2        43         6.343211  \n",
       "2                   [Drama]            6.9      4517         6.672887  \n",
       "3           [Comedy, Drama]            6.1        13         6.329934  \n",
       "4  [Comedy, Drama, Fantasy]            6.5       119         6.337381  "
      ]
     },
     "execution_count": 56,
     "metadata": {},
     "output_type": "execute_result"
    }
   ],
   "source": [
    "#combining the top_10_movies and df_titles_reviews dataframes on \n",
    "df_top_moviews =  pd.merge(top_10_movies, df_titles_reviews, on = 'primary_title')\n",
    "df_titles_reviews.head()"
   ]
  },
  {
   "cell_type": "code",
   "execution_count": null,
   "metadata": {},
   "outputs": [],
   "source": []
  }
 ],
 "metadata": {
  "kernelspec": {
   "display_name": "Python 3 (ipykernel)",
   "language": "python",
   "name": "python3"
  },
  "language_info": {
   "codemirror_mode": {
    "name": "ipython",
    "version": 3
   },
   "file_extension": ".py",
   "mimetype": "text/x-python",
   "name": "python",
   "nbconvert_exporter": "python",
   "pygments_lexer": "ipython3",
   "version": "3.11.4"
  },
  "toc-showcode": false
 },
 "nbformat": 4,
 "nbformat_minor": 4
}
